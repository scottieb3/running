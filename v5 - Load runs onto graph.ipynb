{
 "cells": [
  {
   "cell_type": "markdown",
   "metadata": {},
   "source": [
    "# Load graph data"
   ]
  },
  {
   "cell_type": "code",
   "execution_count": 1,
   "metadata": {
    "collapsed": true
   },
   "outputs": [],
   "source": [
    "import networkx as nx\n",
    "import json\n",
    "import numpy as np\n",
    "import gmplot #for plotting to google maps\n",
    "\n",
    "#load the shapefile generated from an OSMnx pull (see v4.1 OSMnx to generate SHP.ipynb)\n",
    "g = nx.read_shp('data/from_osmnx/edges/edges.shp')\n",
    "\n",
    "#returns array of coordinates for any edge in the graph\n",
    "def get_path(n0, n1):\n",
    "    \"\"\"If n0 and n1 are connected nodes in the graph, this function\n",
    "    return an array of point coordinates along the road linking\n",
    "    these two nodes.\"\"\"\n",
    "    return np.array(json.loads(g[n0][n1]['Json'])['coordinates'])\n",
    "\n",
    "#returns in KILOMETERS\n",
    "EARTH_R = 6372.8\n",
    "def geocalc(lat0, lon0, lat1, lon1):\n",
    "    \"\"\"Return the distance (in km) between two points in \n",
    "    geographical coordinates.\"\"\"\n",
    "    lat0 = np.radians(lat0)\n",
    "    lon0 = np.radians(lon0)\n",
    "    lat1 = np.radians(lat1)\n",
    "    lon1 = np.radians(lon1)\n",
    "    dlon = lon0 - lon1\n",
    "    y = np.sqrt(\n",
    "        (np.cos(lat1) * np.sin(dlon)) ** 2\n",
    "         + (np.cos(lat0) * np.sin(lat1) \n",
    "         - np.sin(lat0) * np.cos(lat1) * np.cos(dlon)) ** 2)\n",
    "    x = np.sin(lat0) * np.sin(lat1) + \\\n",
    "        np.cos(lat0) * np.cos(lat1) * np.cos(dlon)\n",
    "    c = np.arctan2(y, x)\n",
    "    return EARTH_R * c\n",
    "\n",
    "#Now, we define a function computing a path's length.\n",
    "#This function has been found in StackOverflow. http://stackoverflow.com/questions/8858838/need-help-calculating-geographical-distance\n",
    "\n",
    "#order of lats, lons was incorrect in tutorial! Corrected here\n",
    "def get_path_length(path):\n",
    "    return np.sum(geocalc(path[:-1,1], path[:-1,0], path[1:,1], path[1:,0]))"
   ]
  },
  {
   "cell_type": "markdown",
   "metadata": {},
   "source": [
    "## Load graph data > Add nodes and connect them"
   ]
  },
  {
   "cell_type": "markdown",
   "metadata": {},
   "source": [
    "Load the data (a Shapefile dataset) with NetworkX. \n",
    "This dataset contains detailed information about all roads in San Francisco County. \n",
    "NetworkX's read_shp function returns a graph, where each node is a geographical position, \n",
    "and each edge contains information about the road linking the two nodes.\n",
    "\n",
    "In lieu of Census data, SF Gov has a full, connected graph of streets that can be found here: https://data.sfgov.org/Geographic-Locations-and-Boundaries/Streets-of-San-Francisco/4ugn-hf48"
   ]
  },
  {
   "cell_type": "code",
   "execution_count": 2,
   "metadata": {
    "collapsed": true
   },
   "outputs": [],
   "source": [
    "\"\"\"\n",
    "    Shapefile is incomplete, so here we manually create edges known to exist\n",
    "\"\"\"\n",
    "#given two nodes, build a node between them\n",
    "#nodes must be in (lon, lat) tuple\n",
    "def create_edge(a,b):\n",
    "    g.add_edge(a, b)\n",
    "    g[a][b]['Json'] = '{ \"type\": \"LineString\" ,\"coordinates\" : [' + str([p for p in a]) + ', ' + str([p for p in b]) + ']}'\n",
    "\n",
    "\n",
    "#road has a gate at the end of public part\n",
    "p1 = (-122.38385529999999, 37.7423869)\n",
    "p2 = (-122.382517, 37.741975)\n",
    "create_edge(p1, p2) #lon/lat\n",
    "\n",
    "#being directional means being unable to find edges unless in correct order\n",
    "#so switch to unidirected\n",
    "g = g.to_undirected()\n",
    "\n",
    "sg_all = list(nx.connected_component_subgraphs(g.to_undirected()))\n",
    "\n",
    "#grab the biggest subgraph\n",
    "max_len = -1\n",
    "sg_final = sg_all[0]\n",
    "for sg in sg_all:\n",
    "    x = len(sg)\n",
    "    if x > max_len:\n",
    "        max_len = x\n",
    "        sg_final = sg\n",
    "        \n",
    "# establish all the nodes\n",
    "nodes = np.array(sg_final.nodes())\n",
    "\n",
    "#update graph by computing the distance between any two connected nodes\n",
    "for n0, n1 in sg_final.edges_iter():\n",
    "    path = get_path(n0, n1)\n",
    "    distance = get_path_length(path)\n",
    "    sg_final.edge[n0][n1]['distance'] = distance"
   ]
  },
  {
   "cell_type": "markdown",
   "metadata": {},
   "source": [
    "# Load run history"
   ]
  },
  {
   "cell_type": "markdown",
   "metadata": {},
   "source": [
    "https://github.com/vgm64/gmplot\n",
    "library for googplotting"
   ]
  },
  {
   "cell_type": "code",
   "execution_count": 3,
   "metadata": {
    "collapsed": true
   },
   "outputs": [],
   "source": [
    "import glob\n",
    "from datetime import datetime #when reading TCX, need to convert dates\n",
    "from bs4 import BeautifulSoup #library for tcx reading"
   ]
  },
  {
   "cell_type": "code",
   "execution_count": 5,
   "metadata": {
    "collapsed": false
   },
   "outputs": [
    {
     "name": "stdout",
     "output_type": "stream",
     "text": [
      "2014-01-13 00:00:00\n",
      "2014-01-19 00:00:00\n",
      "2014-07-15 00:00:00\n",
      "2014-08-28 00:00:00\n",
      "2014-12-16 00:00:00\n",
      "2015-01-10 00:00:00\n",
      "2015-03-28 00:00:00\n",
      "2015-07-08 00:00:00\n",
      "2016-01-06 00:00:00\n",
      "2016-07-11 00:00:00\n",
      "2016-08-15 00:00:00\n",
      "2016-08-15 00:00:00\n",
      "2016-11-15 00:00:00\n",
      "2016-11-16 00:00:00\n",
      "2016-11-24 00:00:00\n",
      "2016-11-27 00:00:00\n",
      "2016-11-29 00:00:00\n",
      "2016-11-30 00:00:00\n",
      "2016-12-15 00:00:00\n",
      "2017-01-03 00:00:00\n",
      "2017-01-08 00:00:00\n",
      "2017-01-09 00:00:00\n",
      "2017-01-30 00:00:00\n",
      "2017-03-05 00:00:00\n",
      "2017-03-07 00:00:00\n",
      "2017-03-11 00:00:00\n",
      "2017-03-11 00:00:00\n",
      "2017-03-16 00:00:00\n",
      "2017-03-20 00:00:00\n",
      "2017-03-22 00:00:00\n",
      "2017-03-23 00:00:00\n",
      "2017-03-25 00:00:00\n",
      "2017-03-26 00:00:00\n",
      "2017-03-26 00:00:00\n",
      "2017-03-28 00:00:00\n",
      "2017-03-31 00:00:00\n",
      "2017-04-03 00:00:00\n",
      "2017-04-05 00:00:00\n",
      "2017-04-08 00:00:00\n",
      "2017-04-11 00:00:00\n",
      "2017-04-12 00:00:00\n",
      "2017-04-13 00:00:00\n",
      "2017-04-16 00:00:00\n",
      "2017-04-18 00:00:00\n",
      "2017-04-20 00:00:00\n",
      "2017-04-24 00:00:00\n",
      "all runs mapped\n"
     ]
    }
   ],
   "source": [
    "def find_closest_node(my_point, n=1, distance=False):\n",
    "    if n == 1:\n",
    "        return tuple(nodes[np.argmin(np.sum((nodes[:,::-1] - my_point)**2, axis=1))])\n",
    "\n",
    "    my_closest_nodes = nodes[np.argsort(np.sum((nodes[:,::-1] - my_point)**2, axis=1))[:n]]\n",
    "    return [tuple(c) for c in my_closest_nodes]\n",
    "\n",
    "#look for all these files, compare it to the KML dates and add it to the map\n",
    "\n",
    "def pull_from_tcxs(file_pattern, dates, a_map, color):\n",
    "#loop through all matching files\n",
    "    for file in glob.glob(file_pattern):\n",
    "\n",
    "#compare it against dates from KML and only proceed if it is new data \n",
    "        file_date = file.split('tapiriik')[1][1:11]\n",
    "        file_date = datetime.strptime(file_date, '%Y-%m-%d')\n",
    "        if file_date in dates:\n",
    "            continue\n",
    "        print(file_date)\n",
    "\n",
    "#open it via beautifulsoup\n",
    "        soup = BeautifulSoup(open(file), \"html.parser\")\n",
    "\n",
    "#set up arrays for point data\n",
    "        lats = []\n",
    "        lons = []\n",
    "\n",
    "#not all points contain location data, so loop through 'position' tags and grab the parent\n",
    "        for pos in soup.find_all('position'):\n",
    "            tp = pos.parent\n",
    "\n",
    "#pick out the latitude and longitude (lat/lon need to be floats for plotting)\n",
    "            this_lat = float(pos.latitudedegrees.string)\n",
    "            this_lon = float(pos.longitudedegrees.string)\n",
    "\n",
    "#append trackpoint's data to master lists\n",
    "            lats.append(this_lat)\n",
    "            lons.append(this_lon)\n",
    "\n",
    "#add this route to the plot\n",
    "        a_map.plot(lats, lons, color, edge_width=4, alpha=0.3)\n",
    "\n",
    "#given a google map, KML file and color: add to the map for every route manually and record the dates\n",
    "\n",
    "def pull_from_kml(a_map, file, color):\n",
    "#initialize list of dates, will later compare to figure which tcx files needed\n",
    "    dates = []\n",
    "\n",
    "#grab kml file\n",
    "    soup = BeautifulSoup(open(file), \"html.parser\")\n",
    "\n",
    "#loop through all routes (placemark tags)\n",
    "    for p in soup.find_all('placemark'):\n",
    "        #pull date of run\n",
    "        this_date = p.find('name').text\n",
    "        if this_date == 'BLOCKED':\n",
    "            continue\n",
    "        dates.append(datetime.strptime(this_date, '%m/%d/%y'))\n",
    "\n",
    "        #pull out lat/lon pairs for each run\n",
    "        coords = p.coordinates.text.split()\n",
    "\n",
    "        lats = []\n",
    "        lons = []\n",
    "\n",
    "        for c in coords:\n",
    "            this_coord = c.split(',')\n",
    "            lats.append(float(this_coord[1]))\n",
    "            lons.append(float(this_coord[0]))\n",
    "\n",
    "        a_map.plot(lats, lons, color, edge_width=4, alpha=0.3)\n",
    "\n",
    "    return dates\n",
    "\n",
    "#pull from manually built KML\n",
    "file = 'Running SF.kml'\n",
    "\n",
    "#define the map area\n",
    "kml_map = gmplot.GoogleMapPlotter.from_geocode(\"San Francisco\")\n",
    "\n",
    "#generate plot of all the KML based runs\n",
    "kml_dates = pull_from_kml(kml_map, file, 'cornflowerblue')\n",
    "\n",
    "#tcs files are synced from garmin via https://tapiriik.com/\n",
    "files = '../../../Apps/tapiriik/*.tcx'\n",
    "pull_from_tcxs(files, kml_dates, kml_map, 'crimson')\n",
    "\n",
    "#generate all plots\n",
    "kml_map.draw('runs 2017 04 25.html')\n",
    "print('all runs mapped')"
   ]
  },
  {
   "cell_type": "code",
   "execution_count": 2,
   "metadata": {
    "collapsed": true
   },
   "outputs": [],
   "source": []
  },
  {
   "cell_type": "markdown",
   "metadata": {},
   "source": [
    "## Load run history > map a KML"
   ]
  },
  {
   "cell_type": "markdown",
   "metadata": {},
   "source": [
    "Given a KML point, return it's nearest edge"
   ]
  },
  {
   "cell_type": "code",
   "execution_count": 39,
   "metadata": {
    "collapsed": true
   },
   "outputs": [],
   "source": [
    "#given two nodes anywhere on the graph, return all necessary intermediary nodes\n",
    "def connect_nodes(n0, n1):\n",
    "    return nx.shortest_path(sg_final, \n",
    "                        source=n0, \n",
    "                        target=n1,\n",
    "                        weight='distance')\n",
    "\n",
    "def distance_between_nodes(n0, n1):\n",
    "    return nx.shortest_path_length(sg_final, source=n0, target=n1, weight='distance')"
   ]
  },
  {
   "cell_type": "code",
   "execution_count": 7,
   "metadata": {
    "collapsed": true
   },
   "outputs": [],
   "source": [
    "def distance_from_edge_coord(a,b,my_point):\n",
    "    path = get_path(a,b)\n",
    "    my_distances = np.sum((path[:,::-1] - my_point)**2, axis=1)\n",
    "    return min(my_distances**0.5)"
   ]
  },
  {
   "cell_type": "code",
   "execution_count": 8,
   "metadata": {
    "collapsed": true
   },
   "outputs": [],
   "source": [
    "#given two 2-d points, return their distance\n",
    "def distance_points(a,b):\n",
    "    return np.sqrt((a[0] - b[0])**2 + (a[1] - b[1])**2)"
   ]
  },
  {
   "cell_type": "code",
   "execution_count": 142,
   "metadata": {
    "collapsed": true
   },
   "outputs": [],
   "source": [
    "#for a given point, find the edge it is closest to\n",
    "#first, find it's closest point on an infinite line defined by two nodes\n",
    "#use https://en.wikipedia.org/wiki/Distance_from_a_point_to_a_line#Line_defined_by_two_points\n",
    "#if that point IS NOT actually between the nodes, take the closest node\n",
    "\n",
    "def distance_from_line(p,q,x):\n",
    "\n",
    "#==Part 1===\n",
    "#p & q make a line; how far is x from this infinite line?\n",
    "\n",
    "#vertical traverse\n",
    "    a = p[1] - q[1]\n",
    "\n",
    "#horizontal traverse\n",
    "    b = q[0] - p[0]\n",
    "\n",
    "#ax+by+c = 0\n",
    "    c = -a * p[0] - b * p[1]\n",
    "\n",
    "    \n",
    "    \n",
    "#==Part 2== does this closest-line-point actually lie between nodes?\n",
    "#Ax + By + C = 0 ==> y = (-Ax - C)/B\n",
    "\n",
    "#first, calculate what the closest point is, holding x constant\n",
    "#second, calculate the distance between that closest point and the actual point\n",
    "#finally, check whether the closest point actually lies on the line between the edge's endpoints\n",
    "#if not, use the closest endpoint\n",
    "\n",
    "    if b == 0:\n",
    "# vertical line: ==> x = (-C - By) / A ==> x = -C / A\n",
    "#thus, ignore y and only take the distance between x and the latitude of our point\n",
    "    #print('vertical line')\n",
    "        dist =  abs(a*x[0] + c) / abs(a)\n",
    "        closest_y = x[1]\n",
    "\n",
    "# horizontal line: ==> y = (-Ax - C) / B ==> y = -C / B\n",
    "#thus, ignore x and only take the distance between y and longitude of our point\n",
    "    elif a == 0:\n",
    "    #print('horizontal line')\n",
    "        dist = abs(b* x[1] + c) / abs(b)\n",
    "        closest_y = -c / b\n",
    "    \n",
    "\n",
    "#not a vertical or horizontal line? proceed with full formula\n",
    "    elif a * b != 0:\n",
    "#distance = |Ax0 + By0 + C| / sqrt(a^2 + b^s)\n",
    "    #print('diagnoal line')\n",
    "        dist = abs(a*x[0] + b*x[1] + c) / (a**2 + b**2)**0.5\n",
    "        closest_y = (-1 * a * x[0] - c) / b\n",
    "    \n",
    "    else:\n",
    "        print('error!')\n",
    "        return\n",
    "\n",
    "#lat&lon must be constrained by nodes' lat/lons\n",
    "    p_x = distance_points(p, [x[0], closest_y])\n",
    "    q_x = distance_points(q, [x[0], closest_y])\n",
    "    p_q = distance_points(p,q)\n",
    "\n",
    "    error = 1e-10\n",
    "    if(abs(p_x + q_x - p_q) < error):\n",
    "        return dist\n",
    "    \n",
    "#print('closest point not on edge')\n",
    "    return min(distance_points(p,x), distance_points(q,x))"
   ]
  },
  {
   "cell_type": "code",
   "execution_count": 10,
   "metadata": {
    "collapsed": true
   },
   "outputs": [],
   "source": [
    "#given a point, return the closest edge; optionally return its distance\n",
    "def find_closest_edge(my_point, method='all', return_distance=False):\n",
    "\n",
    "    min_distance_to_coord_edge = 100\n",
    "\n",
    "#iterate through edges and record distance to closest point on edge\n",
    "    for n0, n1 in sg_final.edges_iter():\n",
    "\n",
    "#use two methods to look for closest road: (1) by line segment using perpendicular distance, (2) by edge's coordinates\n",
    "#(2) is necessary for curving roads...I think\n",
    "        if n0 == n1:\n",
    "            continue\n",
    "        \n",
    "        my_distance_perp = distance_from_line(n0[::-1], n1[::-1], my_point)\n",
    "        my_distance_coord = distance_from_edge_coord(n0,n1,my_point)\n",
    "        \n",
    "        #for debugging\n",
    "        if method == 'perp':\n",
    "            my_distance = my_distance_perp\n",
    "        elif method == 'coord':\n",
    "            my_distance = my_distance_coord\n",
    "        else:\n",
    "            my_distance = min(my_distance_perp, my_distance_coord)\n",
    "        \n",
    "        if my_distance < min_distance_to_coord_edge:\n",
    "            min_distance_to_coord_edge = my_distance\n",
    "            closest_edge = [n0, n1]\n",
    "            \n",
    "    if return_distance:\n",
    "        return closest_edge, min_distance_to_coord_edge\n",
    "            \n",
    "    return closest_edge"
   ]
  },
  {
   "cell_type": "code",
   "execution_count": 11,
   "metadata": {
    "collapsed": true
   },
   "outputs": [],
   "source": [
    "file = 'Running SF.kml'"
   ]
  },
  {
   "cell_type": "code",
   "execution_count": 12,
   "metadata": {
    "collapsed": true
   },
   "outputs": [],
   "source": [
    "#given two nodes, add their edge to the map\n",
    "\n",
    "def plot_edge_gmap(n0, n1, color='purple', nodes=False):\n",
    "#check to make sure nodes aren't the same\n",
    "    if n0 != n1:\n",
    "        my_path = get_path(n0, n1)\n",
    "        my_lats = [c[1] for c in my_path]\n",
    "        my_lons = [c[0] for c in my_path]\n",
    "        a_map.plot(my_lats, my_lons, color, edge_width=5, alpha=0.4)\n",
    "        \n",
    "        if nodes:\n",
    "            a_map.scatter(my_lats, my_lons, size=5, color=color, marker=False)"
   ]
  },
  {
   "cell_type": "code",
   "execution_count": 23,
   "metadata": {
    "collapsed": true
   },
   "outputs": [],
   "source": [
    "#given a KML run, plot it on google maps\n",
    "#inferring closest nodes, edges\n",
    "def plot_kml(my_coords):\n",
    "\n",
    "    threshold = 25 / 100000\n",
    "    run_nodes = []\n",
    "\n",
    "#take apart the individual points\n",
    "    for c in my_coords:\n",
    "        this_coord = c.split(',')\n",
    "        lat = float(this_coord[1])\n",
    "        lon = float(this_coord[0])\n",
    "        this_point = (lat, lon)\n",
    "    \n",
    "#if distance is < threshold, then just use the closest node.  Else, find the closest edge.  And plot it \n",
    "\n",
    "# need to incorporate coordinates within the edge?\n",
    "\n",
    "        dist_nodes = np.sum((nodes[:,::-1] - this_point)**2, axis=1)\n",
    "        dist = min(dist_nodes**0.5)\n",
    "    \n",
    "        if dist < threshold:\n",
    "            if run_nodes:\n",
    "#connect the last point to this node, but exclude the last point\n",
    "                cn = connect_nodes(run_nodes[-1], find_closest_node(this_point))[1:]\n",
    "            else: #starting condition\n",
    "                run_nodes.extend([find_closest_node(this_point)])\n",
    "                continue\n",
    "\n",
    "            my_color = 'blue'\n",
    "        else:\n",
    "            print('guessing edge for ' + str(this_point))\n",
    "            ce = find_closest_edge(this_point, 'all')\n",
    "            if run_nodes:\n",
    "                #order matters here, we want to connect nodes that are next to each other, rather than make a long journey\n",
    "                cn = connect_edge(run_nodes[-1], ce)\n",
    "                    \n",
    "\n",
    "            else: #starting condition\n",
    "                cn = ce #just use the edge\n",
    "            my_color = 'red'\n",
    "\n",
    "#take the added nodes and pop them on\n",
    "        run_nodes.extend(cn)\n",
    "\n",
    "#how far to start back when plotting\n",
    "        if run_nodes == cn:\n",
    "            go_back = 0 - len(cn)\n",
    "        else:\n",
    "            go_back = -1 - len(cn)\n",
    "\n",
    "        \n",
    "#to plot: connect the previous node to this one via intermediary nodes, plot coordinates in those edges\n",
    "        for i in range(go_back, -1):\n",
    "            plot_edge_gmap(run_nodes[i], run_nodes[i+1], my_color)\n",
    "    \n",
    "        a_map.scatter([lat], [lon], size=15, color=my_color, marker=False)"
   ]
  },
  {
   "cell_type": "code",
   "execution_count": 146,
   "metadata": {
    "collapsed": false
   },
   "outputs": [
    {
     "name": "stdout",
     "output_type": "stream",
     "text": [
      "guessing edge for (37.790591, -122.42825000000002)\n",
      "guessing edge for (37.7889971, -122.4739766)\n",
      "guessing edge for (37.7891836, -122.47408390000001)\n",
      "guessing edge for (37.7892515, -122.47492069999998)\n",
      "guessing edge for (37.790354, -122.47578200000001)\n",
      "guessing edge for (37.790828, -122.476573)\n",
      "guessing edge for (37.793100700000004, -122.47816089999999)\n",
      "guessing edge for (37.790828, -122.476573)\n",
      "guessing edge for (37.790354, -122.47578200000001)\n",
      "guessing edge for (37.7904385, -122.42861510000002)\n",
      "plotted to v5 test_markers.html\n"
     ]
    }
   ],
   "source": [
    "#grab kml file\n",
    "soup = BeautifulSoup(open(file), \"html.parser\")\n",
    "\n",
    "#pull a route\n",
    "test_kmls = [18, 200, 300, 400, 100]\n",
    "x = test_kmls[2]\n",
    "a_run = soup.find_all('placemark')[x]\n",
    "\n",
    "#pull out lat/lon pairs for each run\n",
    "a_run_coords = a_run.coordinates.text.split()\n",
    "\n",
    "a_map = gmplot.GoogleMapPlotter.from_geocode(\"San Francisco\")\n",
    "\n",
    "plot_kml(a_run_coords)\n",
    "\n",
    "a_map.draw('v5 test_markers.html')\n",
    "print('plotted to v5 test_markers.html')"
   ]
  },
  {
   "cell_type": "code",
   "execution_count": 19,
   "metadata": {
    "collapsed": true
   },
   "outputs": [],
   "source": [
    "#input a messy coord 'lon, lat, 0.0' and return the networkx node (lat, lon)\n",
    "\n",
    "def coord_to_node(c):\n",
    "    this_coord = c.split(',')\n",
    "    lat = float(this_coord[1])\n",
    "    lon = float(this_coord[0])\n",
    "    this_point = (lat, lon)\n",
    "    return this_point"
   ]
  },
  {
   "cell_type": "code",
   "execution_count": 20,
   "metadata": {
    "collapsed": true
   },
   "outputs": [],
   "source": [
    "#input must be an existing node (lon, lat) and plot out all the edges from that node\n",
    "def plot_neighbor_edges(my_point):\n",
    "#my_point= (-122.38385529999999, 37.7423869)\n",
    "\n",
    "    a_map = gmplot.GoogleMapPlotter(my_point[1], my_point[0], 14)\n",
    "\n",
    "    for e in sg_final.neighbors_iter(my_point):\n",
    "        plot_edge_gmap(my_point, e, nodes=True)\n",
    "    \n",
    "    my_map_file = 'v5 - some edges.html'\n",
    "    a_map.draw(my_map_file)        \n",
    "    print('mapped to ' + my_map_file)"
   ]
  },
  {
   "cell_type": "code",
   "execution_count": 21,
   "metadata": {
    "collapsed": false
   },
   "outputs": [],
   "source": [
    "#take a junk point and print out it's closest edges\n",
    "def plot_closest_edge(my_point, color='purple'):\n",
    "#this_point = a_run_coords[15]\n",
    "\n",
    "    my_coord = coord_to_node(my_point)\n",
    "    my_edge = find_closest_edge(my_coord)\n",
    "\n",
    "    plot_edge_gmap(my_edge[0], my_edge[1], color)"
   ]
  },
  {
   "cell_type": "code",
   "execution_count": 83,
   "metadata": {
    "collapsed": false
   },
   "outputs": [],
   "source": [
    "#take a node and an edge, orient the edge's endpoints toward the node and return the path connecting the two\n",
    "def connect_edge(my_node, my_edge):\n",
    "    distance_0 = distance_between_nodes(my_node, my_edge[0])\n",
    "    distance_1 = distance_between_nodes(my_node, my_edge[1])\n",
    "    #print(distance_0, distance_1)\n",
    "    \n",
    "    #if node is on edge, just return the other edge endpoint\n",
    "    if distance_0 == 0:\n",
    "        return [my_edge[1]]\n",
    "    if distance_1 == 0:\n",
    "        return [my_edge[0]]\n",
    "        \n",
    "    #orient the edge so the closest endpoint follows the node\n",
    "    if distance_0 < distance_1:\n",
    "        my_trio = connect_nodes(my_node, my_edge[0])[1:]\n",
    "        my_trio.extend([my_edge[1]])\n",
    "    \n",
    "    else:\n",
    "        my_trio = connect_nodes(my_node, my_edge[1])[1:]\n",
    "        my_trio.extend([my_edge[0]])\n",
    "        \n",
    "    return my_trio"
   ]
  },
  {
   "cell_type": "markdown",
   "metadata": {},
   "source": [
    "# scratch"
   ]
  },
  {
   "cell_type": "code",
   "execution_count": 143,
   "metadata": {
    "collapsed": false
   },
   "outputs": [],
   "source": [
    "this_point = a_run_coords[0]\n",
    "this_point_c = coord_to_node(this_point)\n",
    "\n",
    "a_map = gmplot.GoogleMapPlotter(this_point_c[0], this_point_c[1], 14)\n",
    "plot_closest_edge(this_point, color='purple')\n",
    "a_map.scatter([this_point_c[0]], [this_point_c[1]], color='red', marker=False, size=5)\n",
    "a_map.scatter([this_point_c[0]], [closest_y], color='blue', marker=False, size=5)\n",
    "my_map_file = 'v5 - closest edge.html'\n",
    "a_map.draw(my_map_file)"
   ]
  },
  {
   "cell_type": "code",
   "execution_count": null,
   "metadata": {
    "collapsed": true
   },
   "outputs": [],
   "source": []
  },
  {
   "cell_type": "code",
   "execution_count": 119,
   "metadata": {
    "collapsed": false
   },
   "outputs": [],
   "source": [
    "wrong_edge = find_closest_edge(this_point_c)"
   ]
  },
  {
   "cell_type": "code",
   "execution_count": 117,
   "metadata": {
    "collapsed": false
   },
   "outputs": [],
   "source": [
    "correct_edge = find_closest_edge(this_point_c)"
   ]
  },
  {
   "cell_type": "code",
   "execution_count": 120,
   "metadata": {
    "collapsed": false
   },
   "outputs": [
    {
     "data": {
      "text/plain": [
       "[(-122.396089, 37.758295), (-122.396013, 37.757477)]"
      ]
     },
     "execution_count": 120,
     "metadata": {},
     "output_type": "execute_result"
    }
   ],
   "source": [
    "correct_edge"
   ]
  },
  {
   "cell_type": "code",
   "execution_count": 121,
   "metadata": {
    "collapsed": false
   },
   "outputs": [
    {
     "data": {
      "text/plain": [
       "[(-122.395684, 37.757041), (-122.396013, 37.757477)]"
      ]
     },
     "execution_count": 121,
     "metadata": {},
     "output_type": "execute_result"
    }
   ],
   "source": [
    "wrong_edge"
   ]
  },
  {
   "cell_type": "code",
   "execution_count": 122,
   "metadata": {
    "collapsed": false
   },
   "outputs": [
    {
     "data": {
      "text/plain": [
       "(37.757806, -122.39608500000001)"
      ]
     },
     "execution_count": 122,
     "metadata": {},
     "output_type": "execute_result"
    }
   ],
   "source": [
    "this_point_c"
   ]
  },
  {
   "cell_type": "code",
   "execution_count": 127,
   "metadata": {
    "collapsed": false
   },
   "outputs": [
    {
     "data": {
      "text/plain": [
       "0.0003367862823853227"
      ]
     },
     "execution_count": 127,
     "metadata": {},
     "output_type": "execute_result"
    }
   ],
   "source": [
    "n0 = correct_edge[0]\n",
    "n1 = correct_edge[1]\n",
    "\n",
    "\n",
    "distance_from_line(n0[::-1], n1[::-1], this_point_c)"
   ]
  },
  {
   "cell_type": "code",
   "execution_count": 124,
   "metadata": {
    "collapsed": false
   },
   "outputs": [
    {
     "data": {
      "text/plain": [
       "0.0003367862823853227"
      ]
     },
     "execution_count": 124,
     "metadata": {},
     "output_type": "execute_result"
    }
   ],
   "source": [
    "n0 = wrong_edge[0]\n",
    "n1 = wrong_edge[1]\n",
    "\n",
    "\n",
    "distance_from_line(n0[::-1], n1[::-1], this_point_c)"
   ]
  },
  {
   "cell_type": "code",
   "execution_count": 141,
   "metadata": {
    "collapsed": false
   },
   "outputs": [
    {
     "name": "stdout",
     "output_type": "stream",
     "text": [
      "diagnoal line\n",
      "on line\n",
      "4.1255084769045784e-05\n",
      "0.000336786282385\n"
     ]
    }
   ],
   "source": [
    "#def distance_from_line(p,q,x):\n",
    "\n",
    "p=n0[::-1]\n",
    "q=n1[::-1]\n",
    "x=this_point_c\n",
    "\n",
    "#==Part 1===\n",
    "#p & q make a line; how far is x from this infinite line?\n",
    "\n",
    "#vertical traverse\n",
    "a = p[1] - q[1]\n",
    "\n",
    "#horizontal traverse\n",
    "b = q[0] - p[0]\n",
    "\n",
    "#ax+by+c = 0\n",
    "c = -a * p[0] - b * p[1]\n",
    "\n",
    "\n",
    "\n",
    "#==Part 2== does this closest-line-point actually lie between nodes?\n",
    "#Ax + By + C = 0 ==> y = (-Ax - C)/B\n",
    "\n",
    "#first, calculate what the closest point is, holding x constant\n",
    "#second, calculate the distance between that closest point and the actual point\n",
    "#finally, check whether the closest point actually lies on the line between the edge's endpoints\n",
    "#if not, use the closest endpoint\n",
    "\n",
    "if b == 0:\n",
    "# vertical line: ==> x = (-C - By) / A ==> x = -C / A\n",
    "#thus, ignore y and only take the distance between x and the latitude of our point\n",
    "    print('vertical line')\n",
    "    dist =  abs(a*x[0] + c) / abs(a)\n",
    "    closest_y = x[1]\n",
    "\n",
    "# horizontal line: ==> y = (-Ax - C) / B ==> y = -C / B\n",
    "#thus, ignore x and only take the distance between y and longitude of our point\n",
    "elif a == 0:\n",
    "    print('horizontal line')\n",
    "    dist = abs(b* x[1] + c) / abs(b)\n",
    "    closest_y = -c / b\n",
    "\n",
    "\n",
    "#not a vertical or horizontal line? proceed with full formula\n",
    "elif a * b != 0:\n",
    "#distance = |Ax0 + By0 + C| / sqrt(a^2 + b^s)\n",
    "    print('diagnoal line')\n",
    "    dist = abs(a*x[0] + b*x[1] + c) / (a**2 + b**2)**0.5\n",
    "    closest_y = (-1 * a * x[0] - c) / b\n",
    "\n",
    "else:\n",
    "    print('error!')\n",
    "#    return\n",
    "\n",
    "#lat&lon must be constrained by nodes' lat/lons\n",
    "p_x = distance_points(p, [x[0], closest_y])\n",
    "q_x = distance_points(q, [x[0], closest_y])\n",
    "p_q = distance_points(p,q)\n",
    "\n",
    "\n",
    "error = 1e-10\n",
    "if(abs(p_x + q_x - p_q) < error):\n",
    "    print('on line')\n",
    "    print(dist)\n",
    "\n",
    "#print('closest point not on edge')\n",
    "print(min(distance_points(p,x), distance_points(q,x)))"
   ]
  },
  {
   "cell_type": "code",
   "execution_count": 136,
   "metadata": {
    "collapsed": false
   },
   "outputs": [
    {
     "data": {
      "text/plain": [
       "False"
      ]
     },
     "execution_count": 136,
     "metadata": {},
     "output_type": "execute_result"
    }
   ],
   "source": [
    "p_x + q_x == p_q"
   ]
  },
  {
   "cell_type": "code",
   "execution_count": 137,
   "metadata": {
    "collapsed": false
   },
   "outputs": [
    {
     "name": "stdout",
     "output_type": "stream",
     "text": [
      "0.000821522975938\n",
      "0.000821522975938\n"
     ]
    }
   ],
   "source": [
    "print(p_x + q_x)\n",
    "print(p_q)"
   ]
  },
  {
   "cell_type": "code",
   "execution_count": 140,
   "metadata": {
    "collapsed": false
   },
   "outputs": [
    {
     "data": {
      "text/plain": [
       "True"
      ]
     },
     "execution_count": 140,
     "metadata": {},
     "output_type": "execute_result"
    }
   ],
   "source": [
    "p_x + q_x - p_q < 1e-10"
   ]
  },
  {
   "cell_type": "code",
   "execution_count": null,
   "metadata": {
    "collapsed": true
   },
   "outputs": [],
   "source": []
  }
 ],
 "metadata": {
  "kernelspec": {
   "display_name": "GDAL",
   "language": "python",
   "name": "gdal"
  },
  "language_info": {
   "codemirror_mode": {
    "name": "ipython",
    "version": 3
   },
   "file_extension": ".py",
   "mimetype": "text/x-python",
   "name": "python",
   "nbconvert_exporter": "python",
   "pygments_lexer": "ipython3",
   "version": "3.6.0"
  }
 },
 "nbformat": 4,
 "nbformat_minor": 2
}
