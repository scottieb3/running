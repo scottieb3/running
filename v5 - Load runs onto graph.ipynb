{
 "cells": [
  {
   "cell_type": "markdown",
   "metadata": {},
   "source": [
    "# Load graph data"
   ]
  },
  {
   "cell_type": "code",
   "execution_count": 21,
   "metadata": {
    "collapsed": true
   },
   "outputs": [],
   "source": [
    "import networkx as nx\n",
    "import json\n",
    "import numpy as np\n",
    "import gmplot #for plotting to google maps\n",
    "\n",
    "#load the shapefile generated from an OSMnx pull (see v4.1 OSMnx to generate SHP.ipynb)\n",
    "#g = nx.read_shp('data/from_osmnx/edges/edges.shp')\n",
    "#g = nx.read_shp('data/from_osmnx_2017_05_11/edges/edges.shp')\n",
    "#g = nx.read_shp('data/from_osmnx_2017_05_20/edges/edges.shp')\n",
    "g = nx.read_shp('data/from_osmnx_2017_05_21_all_private/edges/edges.shp')\n",
    "\n",
    "#returns array of coordinates for any edge in the graph\n",
    "def get_path(n0, n1):\n",
    "    \"\"\"If n0 and n1 are connected nodes in the graph, this function\n",
    "    return an array of point coordinates along the road linking\n",
    "    these two nodes.\"\"\"\n",
    "    return np.array(json.loads(g[n0][n1]['Json'])['coordinates'])\n",
    "\n",
    "#returns in KILOMETERS\n",
    "EARTH_R = 6372.8\n",
    "def geocalc(lat0, lon0, lat1, lon1):\n",
    "    \"\"\"Return the distance (in km) between two points in \n",
    "    geographical coordinates.\"\"\"\n",
    "    lat0 = np.radians(lat0)\n",
    "    lon0 = np.radians(lon0)\n",
    "    lat1 = np.radians(lat1)\n",
    "    lon1 = np.radians(lon1)\n",
    "    dlon = lon0 - lon1\n",
    "    y = np.sqrt(\n",
    "        (np.cos(lat1) * np.sin(dlon)) ** 2\n",
    "         + (np.cos(lat0) * np.sin(lat1) \n",
    "         - np.sin(lat0) * np.cos(lat1) * np.cos(dlon)) ** 2)\n",
    "    x = np.sin(lat0) * np.sin(lat1) + \\\n",
    "        np.cos(lat0) * np.cos(lat1) * np.cos(dlon)\n",
    "    c = np.arctan2(y, x)\n",
    "    return EARTH_R * c\n",
    "\n",
    "#Now, we define a function computing a path's length.\n",
    "#This function has been found in StackOverflow. http://stackoverflow.com/questions/8858838/need-help-calculating-geographical-distance\n",
    "\n",
    "#order of lats, lons was incorrect in tutorial! Corrected here\n",
    "def get_path_length(path):\n",
    "    return np.sum(geocalc(path[:-1,1], path[:-1,0], path[1:,1], path[1:,0]))"
   ]
  },
  {
   "cell_type": "markdown",
   "metadata": {},
   "source": [
    "## Load graph data > Add nodes and connect them"
   ]
  },
  {
   "cell_type": "markdown",
   "metadata": {},
   "source": [
    "Load the data (a Shapefile dataset) with NetworkX. \n",
    "This dataset contains detailed information about all roads in San Francisco County. \n",
    "NetworkX's read_shp function returns a graph, where each node is a geographical position, \n",
    "and each edge contains information about the road linking the two nodes.\n",
    "\n",
    "In lieu of Census data, SF Gov has a full, connected graph of streets that can be found here: https://data.sfgov.org/Geographic-Locations-and-Boundaries/Streets-of-San-Francisco/4ugn-hf48"
   ]
  },
  {
   "cell_type": "code",
   "execution_count": 22,
   "metadata": {
    "collapsed": false
   },
   "outputs": [],
   "source": [
    "\"\"\"\n",
    "    Shapefile is incomplete, so here we manually create edges known to exist\n",
    "\"\"\"\n",
    "#given two nodes, build a node between them\n",
    "#nodes must be in (lon, lat) tuple\n",
    "def create_edge(a,b):\n",
    "    g.add_edge(a, b)\n",
    "    g[a][b]['Json'] = '{ \"type\": \"LineString\" ,\"coordinates\" : [' + str([p for p in a]) + ', ' + str([p for p in b]) + ']}'\n",
    "\n",
    "\n",
    "#road has a gate at the end of public part\n",
    "p1 = (-122.38385529999999, 37.7423869)\n",
    "p2 = (-122.382517, 37.741975)\n",
    "create_edge(p1, p2) #lon/lat\n",
    "\n",
    "'''extend edge\n",
    "    inputs: an edge, and a tuple representing a non-existent node\n",
    "    outputs: the edge is now extended to a new node (original edge endpoint now a coordinate), that node splits the nearest edge\n",
    "'''\n",
    "def extend_edge(my_edge, my_point):\n",
    "    #for the point, find the edge it's on and split it into two edges, connected at the point\n",
    "    split_edge(my_point)\n",
    "    \n",
    "    #for the edge, find the closest end point and create a new edge to the point\n",
    "    closest, farthest = orient_edge_endpoints(my_point[::-1], my_edge)\n",
    "    create_edge(closest, my_point[::-1])\n",
    "    \n",
    "'''split an edge with a given point on it\n",
    "    inputs: the point that is being added to the graph\n",
    "    output: the edge, previously A-B is now two edges, A-C & C-B\n",
    "'''\n",
    "def split_edge(my_point):\n",
    "    my_edge = find_closest_edge(my_point)\n",
    "    create_edge(my_edge[0], my_point[::-1])\n",
    "    create_edge(my_edge[1], my_point[::-1])\n",
    "    \n",
    "#given a point, return the closest edge; optionally return its distance\n",
    "def find_closest_edge(my_point, method='all', return_distance=False):\n",
    "\n",
    "    min_distance_to_coord_edge = 100\n",
    "\n",
    "#iterate through edges and record distance to closest point on edge\n",
    "    for n0, n1 in g.edges_iter():\n",
    "\n",
    "#use two methods to look for closest road: (1) by line segment using perpendicular distance, (2) by edge's coordinates\n",
    "#(2) is necessary for curving roads...I think\n",
    "        if n0 == n1:\n",
    "            continue\n",
    "        \n",
    "        my_distance_perp = distance_from_line(n0[::-1], n1[::-1], my_point)\n",
    "        my_distance_coord = distance_from_edge_coord(n0,n1,my_point)\n",
    "        \n",
    "        #for debugging\n",
    "        if method == 'perp':\n",
    "            my_distance = my_distance_perp\n",
    "        elif method == 'coord':\n",
    "            my_distance = my_distance_coord\n",
    "        else:\n",
    "            my_distance = min(my_distance_perp, my_distance_coord)\n",
    "        \n",
    "        if my_distance < min_distance_to_coord_edge:\n",
    "            min_distance_to_coord_edge = my_distance\n",
    "            closest_edge = [n0, n1]\n",
    "            \n",
    "    if return_distance:\n",
    "        return closest_edge, min_distance_to_coord_edge\n",
    "            \n",
    "    return closest_edge\n",
    "\n",
    "#for a given point, find the edge it is closest to\n",
    "#first, find it's closest point on an infinite line defined by two nodes\n",
    "#use https://en.wikipedia.org/wiki/Distance_from_a_point_to_a_line#Line_defined_by_two_points\n",
    "#if that point IS NOT actually between the nodes, take the closest node\n",
    "\n",
    "def distance_from_line(p,q,x):\n",
    "\n",
    "#==Part 1===\n",
    "#p & q make a line; how far is x from this infinite line?\n",
    "\n",
    "#vertical traverse\n",
    "    a = p[1] - q[1]\n",
    "\n",
    "#horizontal traverse\n",
    "    b = q[0] - p[0]\n",
    "\n",
    "#ax+by+c = 0\n",
    "    c = -a * p[0] - b * p[1]\n",
    "\n",
    "    \n",
    "    \n",
    "#==Part 2== does this closest-line-point actually lie between nodes?\n",
    "#Ax + By + C = 0 ==> y = (-Ax - C)/B\n",
    "\n",
    "#first, calculate what the closest point is, holding x constant\n",
    "#second, calculate the distance between that closest point and the actual point\n",
    "#finally, check whether the closest point actually lies on the line between the edge's endpoints\n",
    "#if not, use the closest endpoint\n",
    "\n",
    "    if b == 0:\n",
    "# vertical line: ==> x = (-C - By) / A ==> x = -C / A\n",
    "#thus, ignore y and only take the distance between x and the latitude of our point\n",
    "    #print('vertical line')\n",
    "        dist =  abs(a*x[0] + c) / abs(a)\n",
    "        closest_y = x[1]\n",
    "\n",
    "# horizontal line: ==> y = (-Ax - C) / B ==> y = -C / B\n",
    "#thus, ignore x and only take the distance between y and longitude of our point\n",
    "    elif a == 0:\n",
    "    #print('horizontal line')\n",
    "        dist = abs(b* x[1] + c) / abs(b)\n",
    "        closest_y = -c / b\n",
    "    \n",
    "\n",
    "#not a vertical or horizontal line? proceed with full formula\n",
    "    elif a * b != 0:\n",
    "#distance = |Ax0 + By0 + C| / sqrt(a^2 + b^s)\n",
    "    #print('diagnoal line')\n",
    "        dist = abs(a*x[0] + b*x[1] + c) / (a**2 + b**2)**0.5\n",
    "        closest_y = (-1 * a * x[0] - c) / b\n",
    "    \n",
    "    else:\n",
    "        print('error!')\n",
    "        return\n",
    "\n",
    "#lat&lon must be constrained by nodes' lat/lons\n",
    "    p_x = distance_points(p, [x[0], closest_y])\n",
    "    q_x = distance_points(q, [x[0], closest_y])\n",
    "    p_q = distance_points(p,q)\n",
    "\n",
    "    error = 1e-10\n",
    "    if(abs(p_x + q_x - p_q) < error):\n",
    "        return dist\n",
    "    \n",
    "#print('closest point not on edge')\n",
    "    return min(distance_points(p,x), distance_points(q,x))\n",
    "\n",
    "#given two 2-d points, return their distance\n",
    "def distance_points(a,b):\n",
    "    return np.sqrt((a[0] - b[0])**2 + (a[1] - b[1])**2)\n",
    "\n",
    "def distance_from_edge_coord(a,b,my_point):\n",
    "    path = get_path(a,b)\n",
    "    my_distances = np.sum((path[:,::-1] - my_point)**2, axis=1)\n",
    "    return min(my_distances**0.5)\n",
    "\n",
    "'''orient edge endpoints\n",
    "    inputs: a node and an edge, in any orientation\n",
    "    outputs: two nodes (the edge's endpoints) in order of closest and farthest\n",
    "'''\n",
    "def orient_edge_endpoints(my_node, my_edge):\n",
    "    distance_0 = distance_points(my_node, my_edge[0])\n",
    "    distance_1 = distance_points(my_node, my_edge[1])\n",
    "    \n",
    "    #if a tie, arbitrarily take the first point\n",
    "    if distance_0 <= distance_1:\n",
    "        return my_edge[0], my_edge[1]\n",
    "    if distance_1 < distance_0:\n",
    "        return my_edge[1], my_edge[0]\n",
    "    \n",
    "this_point = (37.7999762, -122.413069)\n",
    "this_edge = [(-122.4124276, 37.7997612), (-122.41301, 37.799689)]\n",
    "#not needed with openstreetmap edits\n",
    "#extend_edge(this_edge, this_point)\n",
    "\n",
    "#being directional means being unable to find edges unless in correct order\n",
    "#so switch to unidirected\n",
    "g = g.to_undirected()\n",
    "\n",
    "sg_all = list(nx.connected_component_subgraphs(g.to_undirected()))\n",
    "\n",
    "#grab the biggest subgraph\n",
    "max_len = -1\n",
    "sg_final = sg_all[0]\n",
    "for sg in sg_all:\n",
    "    x = len(sg)\n",
    "    if x > max_len:\n",
    "        max_len = x\n",
    "        sg_final = sg\n",
    "        \n",
    "# establish all the nodes\n",
    "nodes = np.array(sg_final.nodes())\n",
    "\n",
    "#update graph by computing the distance between any two connected nodes\n",
    "for n0, n1 in sg_final.edges_iter():\n",
    "    path = get_path(n0, n1)\n",
    "    distance = get_path_length(path)\n",
    "    sg_final.edge[n0][n1]['distance'] = distance"
   ]
  },
  {
   "cell_type": "markdown",
   "metadata": {
    "collapsed": true
   },
   "source": [
    "## Load graph data > Visually see graph on a map"
   ]
  },
  {
   "cell_type": "markdown",
   "metadata": {},
   "source": [
    "https://github.com/vgm64/gmplot\n",
    "library for googplotting"
   ]
  },
  {
   "cell_type": "code",
   "execution_count": 23,
   "metadata": {
    "collapsed": false
   },
   "outputs": [],
   "source": [
    "\"\"\"\n",
    "    Plotting the full graph\n",
    "\"\"\"\n",
    "\n",
    "#for an edge, pull all coordinates\n",
    "def pull_coords(my_edge):\n",
    "    return np.array(json.loads(g[e[0]][e[1]]['Json'])['coordinates'])\n",
    "\n",
    "#plot said coordinates from ALL edges in Shapefile\n",
    "a_map = gmplot.GoogleMapPlotter.from_geocode(\"San Francisco\")\n",
    "\n",
    "for e in g.edges_iter():\n",
    "    a_map.plot(pull_coords(e)[:,1], pull_coords(e)[:,0], 'red', edge_width=2, alpha=0.5)\n",
    "\n",
    "a_map.draw('test plots/v5 using OSMnx all.html')"
   ]
  },
  {
   "cell_type": "markdown",
   "metadata": {},
   "source": [
    "# Load run history"
   ]
  },
  {
   "cell_type": "code",
   "execution_count": 3,
   "metadata": {
    "collapsed": true
   },
   "outputs": [],
   "source": [
    "from bs4 import BeautifulSoup #library for tcx reading"
   ]
  },
  {
   "cell_type": "code",
   "execution_count": 4,
   "metadata": {
    "collapsed": true
   },
   "outputs": [],
   "source": [
    "def find_closest_node(my_point, n=1, distance=False):\n",
    "    if n == 1:\n",
    "        return tuple(nodes[np.argmin(np.sum((nodes[:,::-1] - my_point)**2, axis=1))])\n",
    "\n",
    "    my_closest_nodes = nodes[np.argsort(np.sum((nodes[:,::-1] - my_point)**2, axis=1))[:n]]\n",
    "    return [tuple(c) for c in my_closest_nodes]\n"
   ]
  },
  {
   "cell_type": "markdown",
   "metadata": {},
   "source": [
    "## Load run history > map a KML"
   ]
  },
  {
   "cell_type": "code",
   "execution_count": 5,
   "metadata": {
    "collapsed": true
   },
   "outputs": [],
   "source": [
    "file = 'Running SF.kml'\n",
    "\n",
    "#given two nodes anywhere on the graph, return all necessary intermediary nodes\n",
    "def connect_nodes(n0, n1):\n",
    "    return nx.shortest_path(sg_final, \n",
    "                        source=n0, \n",
    "                        target=n1,\n",
    "                        weight='distance')\n",
    "\n",
    "def distance_between_nodes(n0, n1):\n",
    "    return nx.shortest_path_length(sg_final, source=n0, target=n1, weight='distance')\n",
    "\n",
    "#given two nodes, add their edge to the map\n",
    "\n",
    "def plot_edge_gmap(n0, n1, my_map, color='purple', nodes=False):\n",
    "#check to make sure nodes aren't the same\n",
    "    if n0 != n1:\n",
    "        my_path = get_path(n0, n1)\n",
    "        my_lats = [c[1] for c in my_path]\n",
    "        my_lons = [c[0] for c in my_path]\n",
    "        my_map.plot(my_lats, my_lons, color, edge_width=5, alpha=0.4)\n",
    "        \n",
    "        if nodes:\n",
    "            my_map.scatter(my_lats, my_lons, size=5, color=color, marker=False)\n",
    "            \n",
    "#given a KML run, plot it on google maps\n",
    "#inferring closest nodes, edges\n",
    "def plot_kml(my_coords):\n",
    "\n",
    "    threshold = 25 / 100000\n",
    "    run_nodes = []\n",
    "    \n",
    "    sf_limit = 1.0\n",
    "    \n",
    "    a_map = gmplot.GoogleMapPlotter.from_geocode(\"San Francisco\")\n",
    "    \n",
    "    lats = []\n",
    "    lons = []\n",
    "\n",
    "#take apart the individual points\n",
    "    for c in my_coords:\n",
    "        this_coord = c.split(',')\n",
    "        lats.append(float(this_coord[1]))\n",
    "        lons.append(float(this_coord[0]))\n",
    "        \n",
    "    for lat, lon in zip(lats, lons):\n",
    "        this_point = (lat, lon)\n",
    "    \n",
    "#if distance is < threshold, then just use the closest node.  Else, find the closest edge.  And plot it \n",
    "\n",
    "# need to incorporate coordinates within the edge?\n",
    "\n",
    "        dist_nodes = np.sum((nodes[:,::-1] - this_point)**2, axis=1)\n",
    "        dist = min(dist_nodes**0.5)\n",
    "        \n",
    "#is the run in SF?\n",
    "        if dist > sf_limit:\n",
    "            print('not in SF')\n",
    "            a_map = gmplot.GoogleMapPlotter(lat, lon, 13)\n",
    "            #a_map = gmplot.GoogleMapPlotter.from_geocode(\"San Francisco\")\n",
    "            a_map.scatter(lats, lons, size=15, color='black', marker=False)\n",
    "            return a_map\n",
    "            break\n",
    "    \n",
    "        if dist < threshold:\n",
    "            if run_nodes:\n",
    "#connect the last point to this node, but exclude the last point\n",
    "                cn = connect_nodes(run_nodes[-1], find_closest_node(this_point))[1:]\n",
    "            else: #starting condition\n",
    "                run_nodes.extend([find_closest_node(this_point)])\n",
    "                continue\n",
    "\n",
    "            my_color = 'blue'\n",
    "        else:\n",
    "            print('guessing edge for ' + str(this_point) + ', distance: ' + str(dist))\n",
    "            ce = find_closest_edge(this_point, 'all')\n",
    "            if run_nodes:\n",
    "                #order matters here, we want to connect nodes that are next to each other, rather than make a long journey\n",
    "                cn = connect_edge(run_nodes[-1], ce)\n",
    "                    \n",
    "\n",
    "            else: #starting condition\n",
    "                cn = ce #just use the edge\n",
    "            my_color = 'red'\n",
    "\n",
    "#take the added nodes and pop them on\n",
    "        run_nodes.extend(cn)\n",
    "\n",
    "#how far to start back when plotting\n",
    "        if run_nodes == cn:\n",
    "            go_back = 0 - len(cn)\n",
    "        else:\n",
    "            go_back = -1 - len(cn)\n",
    "\n",
    "        \n",
    "        \n",
    "        \n",
    "#to plot: connect the previous node to this one via intermediary nodes, plot coordinates in those edges\n",
    "        for i in range(go_back, -1):\n",
    "            plot_edge_gmap(run_nodes[i], run_nodes[i+1], a_map, my_color)\n",
    "    \n",
    "        \n",
    "        a_map.scatter([lat], [lon], size=15, color=my_color, marker=False)\n",
    "        \n",
    "    return a_map\n",
    "\n",
    "#input a messy coord 'lon, lat, 0.0' and return the networkx node (lat, lon)\n",
    "\n",
    "def coord_to_node(c):\n",
    "    this_coord = c.split(',')\n",
    "    lat = float(this_coord[1])\n",
    "    lon = float(this_coord[0])\n",
    "    this_point = (lat, lon)\n",
    "    return this_point"
   ]
  },
  {
   "cell_type": "code",
   "execution_count": 15,
   "metadata": {
    "collapsed": false
   },
   "outputs": [],
   "source": [
    "#input must be an existing node (lon, lat) and plot out all the edges from that node\n",
    "def plot_neighbor_edges(my_point):\n",
    "#my_point= (-122.38385529999999, 37.7423869)\n",
    "\n",
    "    a_map = gmplot.GoogleMapPlotter(my_point[1], my_point[0], 14)\n",
    "\n",
    "    for e in sg_final.neighbors_iter(my_point):\n",
    "        plot_edge_gmap(my_point, e, nodes=True)\n",
    "    \n",
    "    my_map_file = 'v5 - some edges.html'\n",
    "    a_map.draw(my_map_file)        \n",
    "    print('mapped to ' + my_map_file)\n",
    "    \n",
    "#take a junk point and print out it's closest edges\n",
    "def plot_closest_edge(my_point, color='purple'):\n",
    "#this_point = a_run_coords[15]\n",
    "\n",
    "    my_coord = coord_to_node(my_point)\n",
    "    my_edge = find_closest_edge(my_coord)\n",
    "\n",
    "    plot_edge_gmap(my_edge[0], my_edge[1], color)\n",
    "    \n",
    "#take a node and an edge, orient the edge's endpoints toward the node and return the path connecting the two\n",
    "def connect_edge(my_node, my_edge):\n",
    "    closest, farthest = orient_edge_endpoints(my_node, my_edge)\n",
    "    \n",
    "    #if node is on edge, just return the other edge endpoint\n",
    "    if closest == my_node:\n",
    "        return [farthest]\n",
    "    \n",
    "    my_trio = connect_nodes(my_node, closest)[1:]\n",
    "    my_trio.extend([farthest])\n",
    "    return my_trio\n",
    "\n",
    "#grab kml file\n",
    "soup = BeautifulSoup(open(file), \"html.parser\")\n",
    "\n",
    "#pull a route\n",
    "test_kmls = [18, 30, 43] +\\\n",
    "list(range(59, 62)) +\\\n",
    "[100, 103, 123, 164, 178, 200, 205, 231, 257, 300, 317, 331, 387] +\\\n",
    "list(range(399, 400)) "
   ]
  },
  {
   "cell_type": "code",
   "execution_count": 7,
   "metadata": {
    "collapsed": false
   },
   "outputs": [],
   "source": [
    "def snap_kml(t):\n",
    "    a_run = soup.find_all('placemark')[t]\n",
    "    print(a_run.find('name').get_text())\n",
    "\n",
    "#pull out lat/lon pairs for each run\n",
    "    a_run_coords = a_run.coordinates.text.split()\n",
    "\n",
    "    a_map = plot_kml(a_run_coords)\n",
    "    location = 'test plots/v5 test_markers - ' + str(t) + '.html'\n",
    "    a_map.draw(location)\n",
    "    \n",
    "    print('plotted to ' + location)"
   ]
  },
  {
   "cell_type": "code",
   "execution_count": 7,
   "metadata": {
    "collapsed": true
   },
   "outputs": [],
   "source": []
  },
  {
   "cell_type": "markdown",
   "metadata": {
    "collapsed": false
   },
   "source": [
    "# Plot runs"
   ]
  },
  {
   "cell_type": "code",
   "execution_count": 25,
   "metadata": {
    "collapsed": false
   },
   "outputs": [
    {
     "name": "stdout",
     "output_type": "stream",
     "text": [
      "1/29/13\n",
      "guessing edge for (37.757806, -122.39608500000001), distance: 0.000336786282385\n",
      "guessing edge for (37.753904, -122.399197), distance: 0.000329560313143\n",
      "guessing edge for (37.753828, -122.398891), distance: 0.000285063150903\n",
      "guessing edge for (37.753777, -122.39833799999998), distance: 0.000268601303066\n",
      "guessing edge for (37.753895, -122.398236), distance: 0.000377132602678\n",
      "guessing edge for (37.753984, -122.398065), distance: 0.00056473445087\n",
      "guessing edge for (37.754035, -122.39782300000002), distance: 0.000799270273435\n",
      "guessing edge for (37.753959, -122.397528), distance: 0.000894652876818\n",
      "guessing edge for (37.753836, -122.39736700000002), distance: 0.00105933657068\n",
      "guessing edge for (37.752924, -122.396525), distance: 0.000613117443889\n",
      "guessing edge for (37.752754, -122.39645), distance: 0.000447457260533\n",
      "guessing edge for (37.752623, -122.39646600000002), distance: 0.000315520205373\n",
      "guessing edge for (37.751499, -122.396396), distance: 0.000309965449693\n",
      "guessing edge for (37.750574, -122.39630499999998), distance: 0.000625678975194\n",
      "guessing edge for (37.747414000000006, -122.39613899999999), distance: 0.000272884609311\n",
      "guessing edge for (37.744937, -122.39179400000002), distance: 0.000433116993412\n",
      "guessing edge for (37.741747, -122.385936), distance: 0.000395138013869\n",
      "guessing edge for (37.741722, -122.384026), distance: 0.000611018886779\n",
      "guessing edge for (37.742129000000006, -122.383897), distance: 0.000261249497603\n",
      "guessing edge for (37.742282, -122.38330699999999), distance: 0.000558244480497\n",
      "guessing edge for (37.742146, -122.38288900000002), distance: 0.000409420321931\n",
      "guessing edge for (37.742154, -122.382782), distance: 0.000319790556459\n",
      "guessing edge for (37.742333, -122.38318900000002), distance: 0.000668476551548\n",
      "guessing edge for (37.74302, -122.383618), distance: 0.000676111603213\n",
      "guessing edge for (37.743546, -122.383404), distance: 0.000340243045482\n",
      "guessing edge for (37.744487, -122.384423), distance: 0.000835789596731\n",
      "guessing edge for (37.751647, -122.386773), distance: 0.000814372918257\n",
      "guessing edge for (37.757492, -122.39449700000002), distance: 0.000402616442795\n",
      "guessing edge for (37.75767900000001, -122.39488400000002), distance: 0.000727068992584\n",
      "guessing edge for (37.757857, -122.395098), distance: 0.000498347388876\n",
      "guessing edge for (37.757806, -122.39608500000001), distance: 0.000336786282385\n",
      "plotted to test plots/v5 test_markers - 18.html\n",
      "2/28/13\n",
      "not in SF\n",
      "plotted to test plots/v5 test_markers - 30.html\n",
      "4/17/13\n",
      "not in SF\n",
      "plotted to test plots/v5 test_markers - 43.html\n",
      "5/31/13\n",
      "guessing edge for (37.79054, -122.428036), distance: 0.000408121415757\n",
      "guessing edge for (37.79054, -122.428036), distance: 0.000408121415757\n",
      "plotted to test plots/v5 test_markers - 59.html\n",
      "10/9/13\n",
      "guessing edge for (37.790557, -122.428168), distance: 0.000510705286828\n",
      "guessing edge for (37.790557, -122.428168), distance: 0.000510705286828\n",
      "plotted to test plots/v5 test_markers - 100.html\n",
      "10/17/13\n",
      "guessing edge for (37.790608, -122.428232), distance: 0.000549397388042\n",
      "guessing edge for (37.790438, -122.422696), distance: 0.000269866114952\n",
      "guessing edge for (37.790167, -122.42261), distance: 0.000252127447934\n",
      "guessing edge for (37.782994, -122.435785), distance: 0.00027959493916\n",
      "guessing edge for (37.78318, -122.435807), distance: 0.000405436221868\n",
      "guessing edge for (37.78335, -122.435614), distance: 0.000603962945885\n",
      "guessing edge for (37.78335, -122.434863), distance: 0.000565216250653\n",
      "guessing edge for (37.783469, -122.434691), distance: 0.000448330380417\n",
      "guessing edge for (37.790608, -122.428232), distance: 0.000549397388042\n",
      "plotted to test plots/v5 test_markers - 103.html\n",
      "12/10/13\n",
      "guessing edge for (37.790574, -122.428143), distance: 0.000480712897684\n",
      "guessing edge for (37.790574, -122.428143), distance: 0.000480712897684\n",
      "plotted to test plots/v5 test_markers - 123.html\n",
      "6/15/14\n",
      "guessing edge for (37.790574, -122.428057), distance: 0.000405781332731\n",
      "guessing edge for (37.790574, -122.428057), distance: 0.000405781332731\n",
      "plotted to test plots/v5 test_markers - 164.html\n",
      "7/24/14\n",
      "guessing edge for (37.79054, -122.42822900000002), distance: 0.000572871093711\n",
      "guessing edge for (37.79054, -122.42822900000002), distance: 0.000572871093711\n",
      "plotted to test plots/v5 test_markers - 178.html\n",
      "9/22/14\n",
      "guessing edge for (37.790659, -122.428039), distance: 0.000350780971541\n",
      "guessing edge for (37.78194200000001, -122.44297400000002), distance: 0.000413831040409\n",
      "guessing edge for (37.781756, -122.444561), distance: 0.000695031833802\n",
      "guessing edge for (37.781485, -122.44514100000002), distance: 0.00042267966592\n",
      "guessing edge for (37.784113, -122.42628000000002), distance: 0.000416460130122\n",
      "guessing edge for (37.790659, -122.428039), distance: 0.000350780971541\n",
      "plotted to test plots/v5 test_markers - 200.html\n",
      "10/09/14\n",
      "guessing edge for (37.79054, -122.428122), distance: 0.000478933701045\n",
      "guessing edge for (37.781535, -122.447519), distance: 0.000269427040219\n",
      "guessing edge for (37.780009, -122.446275), distance: 0.000481367551873\n",
      "guessing edge for (37.779365, -122.44535200000001), distance: 0.000518346997677\n",
      "guessing edge for (37.79054, -122.428122), distance: 0.000478933701045\n",
      "plotted to test plots/v5 test_markers - 205.html\n",
      "12/15/14\n",
      "guessing edge for (37.79054, -122.428272), distance: 0.000611831259418\n",
      "guessing edge for (37.784656, -122.423701), distance: 0.000493461264948\n",
      "plotted to test plots/v5 test_markers - 231.html\n",
      "2/9/15\n",
      "guessing edge for (37.7906927, -122.42816420000001), distance: 0.000460895866769\n",
      "guessing edge for (37.7904217, -122.43050320000002), distance: 0.000299796347528\n",
      "guessing edge for (37.7795004, -122.45545870000001), distance: 0.000264577871329\n",
      "plotted to test plots/v5 test_markers - 257.html\n",
      "9/15/15\n",
      "guessing edge for (37.790591, -122.42825000000002), distance: 0.000572110732302\n",
      "guessing edge for (37.7889971, -122.4739766), distance: 0.000451621124394\n",
      "guessing edge for (37.7891836, -122.47408390000001), distance: 0.000308885383264\n",
      "guessing edge for (37.7892515, -122.47492069999998), distance: 0.000533917193937\n",
      "guessing edge for (37.790354, -122.47578200000001), distance: 0.000271488489635\n",
      "guessing edge for (37.790828, -122.476573), distance: 0.000481041578239\n",
      "guessing edge for (37.793100700000004, -122.47816089999999), distance: 0.000345383989199\n",
      "guessing edge for (37.790828, -122.476573), distance: 0.000481041578239\n",
      "guessing edge for (37.790354, -122.47578200000001), distance: 0.000271488489635\n",
      "guessing edge for (37.7904385, -122.42861510000002), distance: 0.000382616269898\n",
      "plotted to test plots/v5 test_markers - 300.html\n",
      "11/25/15\n",
      "guessing edge for (37.790591, -122.42825), distance: 0.000572110732288\n",
      "plotted to test plots/v5 test_markers - 317.html\n",
      "1/13/16\n",
      "guessing edge for (37.79054, -122.428272), distance: 0.000611831259418\n",
      "plotted to test plots/v5 test_markers - 331.html\n",
      "6/27/16\n",
      "not in SF\n",
      "plotted to test plots/v5 test_markers - 387.html\n",
      "8/6/16\n",
      "guessing edge for (37.790591, -122.42825), distance: 0.000572110732288\n",
      "plotted to test plots/v5 test_markers - 399.html\n",
      "8/8/16\n",
      "guessing edge for (37.790591, -122.42825), distance: 0.000572110732288\n",
      "guessing edge for (37.7997134, -122.4130154), distance: 0.000254013247686\n",
      "guessing edge for (37.790625, -122.428039), distance: 0.000364890791875\n",
      "plotted to test plots/v5 test_markers - 400.html\n"
     ]
    }
   ],
   "source": [
    "for t in test_kmls:\n",
    "    snap_kml(t)"
   ]
  },
  {
   "cell_type": "code",
   "execution_count": 6,
   "metadata": {
    "collapsed": false
   },
   "outputs": [
    {
     "name": "stdout",
     "output_type": "stream",
     "text": [
      "2014-01-13 00:00:00\n",
      "2014-01-19 00:00:00\n",
      "2014-07-15 00:00:00\n",
      "2014-08-28 00:00:00\n",
      "2014-12-16 00:00:00\n",
      "2015-01-10 00:00:00\n",
      "2015-03-28 00:00:00\n",
      "2015-07-08 00:00:00\n",
      "2016-01-06 00:00:00\n",
      "2016-07-11 00:00:00\n",
      "2016-08-15 00:00:00\n",
      "2016-08-15 00:00:00\n",
      "2016-11-15 00:00:00\n",
      "2016-11-16 00:00:00\n",
      "2016-11-24 00:00:00\n",
      "2016-11-27 00:00:00\n",
      "2016-11-29 00:00:00\n",
      "2016-11-30 00:00:00\n",
      "2016-12-15 00:00:00\n",
      "2017-01-03 00:00:00\n",
      "2017-01-08 00:00:00\n",
      "2017-01-09 00:00:00\n",
      "2017-01-30 00:00:00\n",
      "2017-03-05 00:00:00\n",
      "2017-03-07 00:00:00\n",
      "2017-03-11 00:00:00\n",
      "2017-03-11 00:00:00\n",
      "2017-03-16 00:00:00\n",
      "2017-03-20 00:00:00\n",
      "2017-03-22 00:00:00\n",
      "2017-03-23 00:00:00\n",
      "2017-03-25 00:00:00\n",
      "2017-03-26 00:00:00\n",
      "2017-03-26 00:00:00\n",
      "2017-03-28 00:00:00\n",
      "2017-03-31 00:00:00\n",
      "2017-04-03 00:00:00\n",
      "2017-04-05 00:00:00\n",
      "2017-04-08 00:00:00\n",
      "2017-04-11 00:00:00\n",
      "2017-04-12 00:00:00\n",
      "2017-04-13 00:00:00\n",
      "2017-04-16 00:00:00\n",
      "2017-04-18 00:00:00\n",
      "2017-04-20 00:00:00\n",
      "2017-04-24 00:00:00\n",
      "2017-04-25 00:00:00\n",
      "2017-04-26 00:00:00\n",
      "2017-05-01 00:00:00\n",
      "2017-05-02 00:00:00\n",
      "2017-05-03 00:00:00\n",
      "2017-05-07 00:00:00\n",
      "2017-05-08 00:00:00\n",
      "2017-05-12 00:00:00\n",
      "2017-05-13 00:00:00\n",
      "2017-05-17 00:00:00\n",
      "all runs mapped\n"
     ]
    }
   ],
   "source": [
    "import glob\n",
    "from datetime import datetime #when reading TCX, need to convert dates\n",
    "\n",
    "#look for all these files, compare it to the KML dates and add it to the map\n",
    "\n",
    "def pull_from_tcxs(file_pattern, dates, a_map, color):\n",
    "#loop through all matching files\n",
    "    for file in glob.glob(file_pattern):\n",
    "\n",
    "#compare it against dates from KML and only proceed if it is new data \n",
    "        file_date = file.split('tapiriik')[1][1:11]\n",
    "        file_date = datetime.strptime(file_date, '%Y-%m-%d')\n",
    "        if file_date in dates:\n",
    "            continue\n",
    "        print(file_date)\n",
    "\n",
    "#open it via beautifulsoup\n",
    "        soup = BeautifulSoup(open(file), \"html.parser\")\n",
    "\n",
    "#set up arrays for point data\n",
    "        lats = []\n",
    "        lons = []\n",
    "\n",
    "#not all points contain location data, so loop through 'position' tags and grab the parent\n",
    "        for pos in soup.find_all('position'):\n",
    "            tp = pos.parent\n",
    "\n",
    "#pick out the latitude and longitude (lat/lon need to be floats for plotting)\n",
    "            this_lat = float(pos.latitudedegrees.string)\n",
    "            this_lon = float(pos.longitudedegrees.string)\n",
    "\n",
    "#append trackpoint's data to master lists\n",
    "            lats.append(this_lat)\n",
    "            lons.append(this_lon)\n",
    "\n",
    "#add this route to the plot\n",
    "        a_map.plot(lats, lons, color, edge_width=4, alpha=0.3)\n",
    "\n",
    "#given a google map, KML file and color: add to the map for every route manually and record the dates\n",
    "\n",
    "def pull_from_kml(a_map, file, color):\n",
    "#initialize list of dates, will later compare to figure which tcx files needed\n",
    "    dates = []\n",
    "\n",
    "#grab kml file\n",
    "    soup = BeautifulSoup(open(file), \"html.parser\")\n",
    "\n",
    "#loop through all routes (placemark tags)\n",
    "    for p in soup.find_all('placemark'):\n",
    "        #pull date of run\n",
    "        this_date = p.find('name').text\n",
    "        if this_date == 'BLOCKED':\n",
    "            continue\n",
    "        dates.append(datetime.strptime(this_date, '%m/%d/%y'))\n",
    "\n",
    "        #pull out lat/lon pairs for each run\n",
    "        coords = p.coordinates.text.split()\n",
    "\n",
    "        lats = []\n",
    "        lons = []\n",
    "\n",
    "        for c in coords:\n",
    "            this_coord = c.split(',')\n",
    "            lats.append(float(this_coord[1]))\n",
    "            lons.append(float(this_coord[0]))\n",
    "\n",
    "        a_map.plot(lats, lons, color, edge_width=4, alpha=0.3)\n",
    "\n",
    "    return dates\n",
    "\n",
    "#pull from manually built KML\n",
    "file = 'Running SF.kml'\n",
    "\n",
    "#define the map area\n",
    "kml_map = gmplot.GoogleMapPlotter.from_geocode(\"San Francisco\")\n",
    "\n",
    "#generate plot of all the KML based runs\n",
    "kml_dates = pull_from_kml(kml_map, file, 'cornflowerblue')\n",
    "\n",
    "#tcs files are synced from garmin via https://tapiriik.com/\n",
    "files = '../../../Apps/tapiriik/*.tcx'\n",
    "pull_from_tcxs(files, kml_dates, kml_map, 'crimson')\n",
    "\n",
    "#generate all plots\n",
    "kml_map.draw('runs 2017 05 02.html')\n",
    "print('all runs mapped')"
   ]
  },
  {
   "cell_type": "markdown",
   "metadata": {},
   "source": [
    "# scratch"
   ]
  },
  {
   "cell_type": "code",
   "execution_count": 8,
   "metadata": {
    "collapsed": true
   },
   "outputs": [],
   "source": [
    "import random"
   ]
  },
  {
   "cell_type": "code",
   "execution_count": 45,
   "metadata": {
    "collapsed": false
   },
   "outputs": [
    {
     "data": {
      "text/plain": [
       "343"
      ]
     },
     "execution_count": 45,
     "metadata": {},
     "output_type": "execute_result"
    }
   ],
   "source": [
    "random.randrange(0,446)"
   ]
  },
  {
   "cell_type": "code",
   "execution_count": 46,
   "metadata": {
    "collapsed": false
   },
   "outputs": [
    {
     "name": "stdout",
     "output_type": "stream",
     "text": [
      "2/22/16\n",
      "guessing edge for (37.7693239, -122.42164130000002), distance: 0.000594796587075\n",
      "guessing edge for (37.790591, -122.42825000000002), distance: 0.000572110732302\n",
      "plotted to test plots/v5 test_markers - 343.html\n"
     ]
    }
   ],
   "source": [
    "snap_kml(343)"
   ]
  },
  {
   "cell_type": "code",
   "execution_count": 43,
   "metadata": {
    "collapsed": false
   },
   "outputs": [],
   "source": [
    "test_kmls = [18, 30, 43] +\\\n",
    "list(range(59, 62)) +\\\n",
    "[100, 103, 123, 164, 178, 200, 205, 231, 257, 300, 317, 331, 387] +\\\n",
    "list(range(399, 400)) "
   ]
  },
  {
   "cell_type": "code",
   "execution_count": 44,
   "metadata": {
    "collapsed": false
   },
   "outputs": [
    {
     "data": {
      "text/plain": [
       "[18,\n",
       " 30,\n",
       " 43,\n",
       " 59,\n",
       " 60,\n",
       " 61,\n",
       " 100,\n",
       " 103,\n",
       " 123,\n",
       " 164,\n",
       " 178,\n",
       " 200,\n",
       " 205,\n",
       " 231,\n",
       " 257,\n",
       " 300,\n",
       " 317,\n",
       " 331,\n",
       " 387,\n",
       " 399]"
      ]
     },
     "execution_count": 44,
     "metadata": {},
     "output_type": "execute_result"
    }
   ],
   "source": [
    "test_kmls"
   ]
  },
  {
   "cell_type": "code",
   "execution_count": 15,
   "metadata": {
    "collapsed": true
   },
   "outputs": [],
   "source": [
    "1.36"
   ]
  },
  {
   "cell_type": "code",
   "execution_count": 16,
   "metadata": {
    "collapsed": false
   },
   "outputs": [
    {
     "data": {
      "text/plain": [
       "<placemark>\n",
       "<name>4/17/13</name>\n",
       "<description><![CDATA[6.59 mi - 53:01<br>8:02 pace<br><br>Flat, windy and sunny!  The park is great, good mix of sun and shade, with wild turkeys all around.  I wouldn't trust the pedestrian crosses at lights, I anticipated one change and almost got creamed when the light just went back to green!]]></description>\n",
       "<styleurl>#line-6666CC-5</styleurl>\n",
       "<linestring>\n",
       "<tessellate>1</tessellate>\n",
       "<coordinates>-121.28608099999998,38.589747,0.0 -121.286972,38.589487,0.0 -121.287712,38.593646,0.0 -121.28807699999999,38.593638,0.0 -121.28810900000002,38.594032,0.0 -121.288292,38.594929,0.0 -121.28888199999999,38.595868,0.0 -121.289826,38.597109,0.0 -121.289976,38.597319,0.0 -121.290094,38.598275,0.0 -121.291339,38.599977,0.0 -121.291478,38.60053,0.0 -121.291414,38.601302,0.0 -121.29098500000002,38.602149,0.0 -121.28865600000002,38.604328,0.0 -121.29391399999999,38.608194,0.0 -121.29275499999999,38.609401,0.0 -121.293388,38.609761,0.0 -121.29394600000002,38.60995400000001,0.0 -121.296167,38.61143,0.0 -121.29649900000001,38.611799,0.0 -121.29677799999999,38.612377,0.0 -121.29675700000001,38.61324,0.0 -121.296993,38.613827,0.0 -121.29808700000001,38.614884,0.0 -121.29816199999999,38.61516,0.0 -121.297626,38.61593100000001,0.0 -121.297712,38.616392,0.0 -121.29823700000001,38.617231,0.0 -121.298184,38.617792,0.0 -121.299235,38.619561,0.0 -121.299664,38.620927,0.0 -121.299707,38.621263000000006,0.0 -121.29934200000001,38.621959,0.0 -121.29919199999999,38.62247,0.0 -121.29916,38.622621,0.0 -121.29898800000001,38.622705,0.0 -121.29894500000002,38.623031,0.0 -121.29846299999998,38.623258,0.0 -121.29839800000002,38.623358,0.0 -121.29813,38.623459,0.0 -121.297851,38.623861,0.0 -121.297454,38.62397,0.0 -121.29694999999998,38.623811,0.0 -121.296574,38.623878,0.0 -121.295963,38.624197,0.0 -121.29305500000001,38.6233,0.0 -121.29207900000002,38.623425,0.0 -121.291843,38.623216,0.0 -121.29162800000002,38.623048,0.0 -121.29144600000001,38.622889,0.0 -121.291135,38.622805,0.0 -121.291027,38.622554,0.0 -121.29036199999999,38.621984,0.0 -121.289955,38.621707,0.0 -121.289568,38.621632,0.0 -121.28950399999998,38.621296,0.0 -121.28931100000001,38.62102,0.0 -121.289397,38.620668,0.0 -121.28927899999998,38.620492,0.0 -121.28888199999999,38.620458,0.0 -121.288066,38.620534,0.0 -121.287916,38.620651,0.0 -121.28772299999999,38.620475,0.0 -121.286006,38.620106,0.0 -121.285674,38.62014,0.0 -121.28371,38.61993,0.0 -121.28352799999999,38.619964,0.0 -121.282959,38.619444,0.0 -121.28345300000001,38.619352,0.0 -121.28410700000002,38.619192,0.0 -121.28659600000002,38.618178,0.0 -121.285491,38.616342,0.0 -121.28460099999998,38.615915,0.0 -121.28429,38.615537,0.0 -121.284515,38.615479,0.0 -121.283871,38.614699,0.0 -121.283517,38.614448,0.0 -121.28482599999998,38.6135,0.0 -121.285009,38.613299,0.0 -121.28553400000001,38.611824,0.0 -121.286006,38.611195,0.0 -121.28662900000002,38.610767,0.0 -121.287294,38.610633,0.0 -121.28792700000001,38.610642,0.0 -121.28873100000001,38.610910000000004,0.0 -121.28915,38.610273,0.0 -121.28833499999999,38.610013,0.0 -121.287809,38.609594,0.0 -121.28801300000002,38.609451,0.0 -121.288324,38.609225,0.0 -121.288839,38.608143,0.0 -121.288903,38.607481,0.0 -121.28901000000002,38.607028,0.0 -121.289257,38.606567,0.0 -121.28958999999999,38.606198,0.0 -121.28775500000002,38.604806,0.0 -121.28856000000002,38.604169,0.0 -121.29043700000001,38.602534,0.0 -121.29099500000001,38.601838,0.0 -121.29125300000001,38.601277,0.0 -121.291392,38.600547,0.0 -121.291188,38.599952,0.0 -121.28998699999998,38.598283,0.0 -121.28981500000002,38.597336,0.0 -121.28966500000001,38.597134,0.0 -121.28869900000001,38.595944,0.0 -121.288066,38.59492100000001,0.0 -121.287873,38.593982,0.0 -121.28773400000001,38.593545,0.0 -121.287058,38.589495,0.0 -121.28608099999998,38.589747,0.0</coordinates>\n",
       "</linestring>\n",
       "</placemark>"
      ]
     },
     "execution_count": 16,
     "metadata": {},
     "output_type": "execute_result"
    }
   ],
   "source": [
    "a_run"
   ]
  },
  {
   "cell_type": "code",
   "execution_count": 34,
   "metadata": {
    "collapsed": false
   },
   "outputs": [],
   "source": []
  },
  {
   "cell_type": "code",
   "execution_count": 17,
   "metadata": {
    "collapsed": false
   },
   "outputs": [
    {
     "data": {
      "text/plain": [
       "446"
      ]
     },
     "execution_count": 17,
     "metadata": {},
     "output_type": "execute_result"
    }
   ],
   "source": [
    "len(soup.find_all('placemark'))"
   ]
  },
  {
   "cell_type": "code",
   "execution_count": 19,
   "metadata": {
    "collapsed": false
   },
   "outputs": [
    {
     "data": {
      "text/plain": [
       "<placemark>\n",
       "<name>12/10/13</name>\n",
       "<description><![CDATA[2.59 mi - 22:37<br>8:43 pace<br><br>Got a bit lost, missed an intended turn at some point along here.  Seems like I'm running the double hill a lot now.]]></description>\n",
       "<styleurl>#line-6666CC-5</styleurl>\n",
       "<linestring>\n",
       "<tessellate>1</tessellate>\n",
       "<coordinates>-122.428143,37.790574,0.0 -122.417693,37.791965,0.0 -122.417736,37.792338,0.0 -122.418659,37.792202,0.0 -122.417736,37.792338,0.0 -122.41823,37.794525,0.0 -122.411556,37.795441,0.0 -122.4116796,37.7958727,0.0 -122.410011,37.796085,0.0 -122.410183,37.796577,0.0 -122.41823,37.795491,0.0 -122.418401,37.796119,0.0 -122.41926,37.796034,0.0 -122.419174,37.795475,0.0 -122.420011,37.795203,0.0 -122.419817,37.794389,0.0 -122.426405,37.793474,0.0 -122.425933,37.790896,0.0 -122.428143,37.790574,0.0</coordinates>\n",
       "</linestring>\n",
       "</placemark>"
      ]
     },
     "execution_count": 19,
     "metadata": {},
     "output_type": "execute_result"
    }
   ],
   "source": [
    "soup.find_all('placemark')[123]"
   ]
  },
  {
   "cell_type": "code",
   "execution_count": 28,
   "metadata": {
    "collapsed": false
   },
   "outputs": [],
   "source": [
    "this_point = a_run_coords[8]\n",
    "this_point_c = coord_to_node(this_point)\n",
    "\n",
    "a_map = gmplot.GoogleMapPlotter(this_point_c[0], this_point_c[1], 15)\n",
    "plot_closest_edge(this_point, color='purple')\n",
    "a_map.scatter([this_point_c[0]], [this_point_c[1]], color='red', marker=False, size=5)\n",
    "\n",
    "\n",
    "nears = find_closest_node(this_point_c, n=10, distance=False)\n",
    "a_map.scatter([n[1] for n in nears], [n[0] for n in nears], color='grey', marker=False, size=4)\n",
    "\n",
    "\n",
    "\n",
    "my_map_file = 'v5 - closest edge.html'\n",
    "a_map.draw(my_map_file)"
   ]
  },
  {
   "cell_type": "code",
   "execution_count": 25,
   "metadata": {
    "collapsed": false
   },
   "outputs": [
    {
     "data": {
      "text/plain": [
       "(-122.413069, 37.7999762)"
      ]
     },
     "execution_count": 25,
     "metadata": {},
     "output_type": "execute_result"
    }
   ],
   "source": [
    "this_point[::-1]"
   ]
  },
  {
   "cell_type": "code",
   "execution_count": 46,
   "metadata": {
    "collapsed": false
   },
   "outputs": [
    {
     "ename": "KeyError",
     "evalue": "(-122.4159537, 37.7604315)",
     "output_type": "error",
     "traceback": [
      "\u001b[0;31m---------------------------------------------------------------------------\u001b[0m",
      "\u001b[0;31mKeyError\u001b[0m                                  Traceback (most recent call last)",
      "\u001b[0;32m<ipython-input-46-ccad1f109bc0>\u001b[0m in \u001b[0;36m<module>\u001b[0;34m()\u001b[0m\n\u001b[0;32m----> 1\u001b[0;31m \u001b[0msplit_edge\u001b[0m\u001b[0;34m(\u001b[0m\u001b[0mthis_point\u001b[0m\u001b[0;34m)\u001b[0m\u001b[0;34m\u001b[0m\u001b[0m\n\u001b[0m",
      "\u001b[0;32m<ipython-input-42-39dc30afeff5>\u001b[0m in \u001b[0;36msplit_edge\u001b[0;34m(my_point)\u001b[0m\n\u001b[1;32m      4\u001b[0m '''\n\u001b[1;32m      5\u001b[0m \u001b[0;32mdef\u001b[0m \u001b[0msplit_edge\u001b[0m\u001b[0;34m(\u001b[0m\u001b[0mmy_point\u001b[0m\u001b[0;34m)\u001b[0m\u001b[0;34m:\u001b[0m\u001b[0;34m\u001b[0m\u001b[0m\n\u001b[0;32m----> 6\u001b[0;31m     \u001b[0mmy_edge\u001b[0m \u001b[0;34m=\u001b[0m \u001b[0mfind_closest_edge\u001b[0m\u001b[0;34m(\u001b[0m\u001b[0mmy_point\u001b[0m\u001b[0;34m)\u001b[0m\u001b[0;34m\u001b[0m\u001b[0m\n\u001b[0m\u001b[1;32m      7\u001b[0m     \u001b[0mcreate_edge\u001b[0m\u001b[0;34m(\u001b[0m\u001b[0mmy_edge\u001b[0m\u001b[0;34m[\u001b[0m\u001b[0;36m0\u001b[0m\u001b[0;34m]\u001b[0m\u001b[0;34m,\u001b[0m \u001b[0mmy_point\u001b[0m\u001b[0;34m)\u001b[0m\u001b[0;34m\u001b[0m\u001b[0m\n\u001b[1;32m      8\u001b[0m     \u001b[0mcreate_edge\u001b[0m\u001b[0;34m(\u001b[0m\u001b[0mmy_edge\u001b[0m\u001b[0;34m[\u001b[0m\u001b[0;36m1\u001b[0m\u001b[0;34m]\u001b[0m\u001b[0;34m,\u001b[0m \u001b[0mmy_point\u001b[0m\u001b[0;34m)\u001b[0m\u001b[0;34m\u001b[0m\u001b[0m\n",
      "\u001b[0;32m<ipython-input-6-c39cbaa5519e>\u001b[0m in \u001b[0;36mfind_closest_edge\u001b[0;34m(my_point, method, return_distance)\u001b[0m\n\u001b[1;32m     13\u001b[0m \u001b[0;34m\u001b[0m\u001b[0m\n\u001b[1;32m     14\u001b[0m         \u001b[0mmy_distance_perp\u001b[0m \u001b[0;34m=\u001b[0m \u001b[0mdistance_from_line\u001b[0m\u001b[0;34m(\u001b[0m\u001b[0mn0\u001b[0m\u001b[0;34m[\u001b[0m\u001b[0;34m:\u001b[0m\u001b[0;34m:\u001b[0m\u001b[0;34m-\u001b[0m\u001b[0;36m1\u001b[0m\u001b[0;34m]\u001b[0m\u001b[0;34m,\u001b[0m \u001b[0mn1\u001b[0m\u001b[0;34m[\u001b[0m\u001b[0;34m:\u001b[0m\u001b[0;34m:\u001b[0m\u001b[0;34m-\u001b[0m\u001b[0;36m1\u001b[0m\u001b[0;34m]\u001b[0m\u001b[0;34m,\u001b[0m \u001b[0mmy_point\u001b[0m\u001b[0;34m)\u001b[0m\u001b[0;34m\u001b[0m\u001b[0m\n\u001b[0;32m---> 15\u001b[0;31m         \u001b[0mmy_distance_coord\u001b[0m \u001b[0;34m=\u001b[0m \u001b[0mdistance_from_edge_coord\u001b[0m\u001b[0;34m(\u001b[0m\u001b[0mn0\u001b[0m\u001b[0;34m,\u001b[0m\u001b[0mn1\u001b[0m\u001b[0;34m,\u001b[0m\u001b[0mmy_point\u001b[0m\u001b[0;34m)\u001b[0m\u001b[0;34m\u001b[0m\u001b[0m\n\u001b[0m\u001b[1;32m     16\u001b[0m \u001b[0;34m\u001b[0m\u001b[0m\n\u001b[1;32m     17\u001b[0m         \u001b[0;31m#for debugging\u001b[0m\u001b[0;34m\u001b[0m\u001b[0;34m\u001b[0m\u001b[0m\n",
      "\u001b[0;32m<ipython-input-26-197cb2a5cf73>\u001b[0m in \u001b[0;36mdistance_from_edge_coord\u001b[0;34m(a, b, my_point)\u001b[0m\n\u001b[1;32m     10\u001b[0m \u001b[0;34m\u001b[0m\u001b[0m\n\u001b[1;32m     11\u001b[0m \u001b[0;32mdef\u001b[0m \u001b[0mdistance_from_edge_coord\u001b[0m\u001b[0;34m(\u001b[0m\u001b[0ma\u001b[0m\u001b[0;34m,\u001b[0m\u001b[0mb\u001b[0m\u001b[0;34m,\u001b[0m\u001b[0mmy_point\u001b[0m\u001b[0;34m)\u001b[0m\u001b[0;34m:\u001b[0m\u001b[0;34m\u001b[0m\u001b[0m\n\u001b[0;32m---> 12\u001b[0;31m     \u001b[0mpath\u001b[0m \u001b[0;34m=\u001b[0m \u001b[0mget_path\u001b[0m\u001b[0;34m(\u001b[0m\u001b[0ma\u001b[0m\u001b[0;34m,\u001b[0m\u001b[0mb\u001b[0m\u001b[0;34m)\u001b[0m\u001b[0;34m\u001b[0m\u001b[0m\n\u001b[0m\u001b[1;32m     13\u001b[0m     \u001b[0mmy_distances\u001b[0m \u001b[0;34m=\u001b[0m \u001b[0mnp\u001b[0m\u001b[0;34m.\u001b[0m\u001b[0msum\u001b[0m\u001b[0;34m(\u001b[0m\u001b[0;34m(\u001b[0m\u001b[0mpath\u001b[0m\u001b[0;34m[\u001b[0m\u001b[0;34m:\u001b[0m\u001b[0;34m,\u001b[0m\u001b[0;34m:\u001b[0m\u001b[0;34m:\u001b[0m\u001b[0;34m-\u001b[0m\u001b[0;36m1\u001b[0m\u001b[0;34m]\u001b[0m \u001b[0;34m-\u001b[0m \u001b[0mmy_point\u001b[0m\u001b[0;34m)\u001b[0m\u001b[0;34m**\u001b[0m\u001b[0;36m2\u001b[0m\u001b[0;34m,\u001b[0m \u001b[0maxis\u001b[0m\u001b[0;34m=\u001b[0m\u001b[0;36m1\u001b[0m\u001b[0;34m)\u001b[0m\u001b[0;34m\u001b[0m\u001b[0m\n\u001b[1;32m     14\u001b[0m     \u001b[0;32mreturn\u001b[0m \u001b[0mmin\u001b[0m\u001b[0;34m(\u001b[0m\u001b[0mmy_distances\u001b[0m\u001b[0;34m**\u001b[0m\u001b[0;36m0.5\u001b[0m\u001b[0;34m)\u001b[0m\u001b[0;34m\u001b[0m\u001b[0m\n",
      "\u001b[0;32m<ipython-input-39-09aaa92f3dca>\u001b[0m in \u001b[0;36mget_path\u001b[0;34m(n0, n1)\u001b[0m\n\u001b[1;32m     12\u001b[0m     \u001b[0;32mreturn\u001b[0m \u001b[0man\u001b[0m \u001b[0marray\u001b[0m \u001b[0mof\u001b[0m \u001b[0mpoint\u001b[0m \u001b[0mcoordinates\u001b[0m \u001b[0malong\u001b[0m \u001b[0mthe\u001b[0m \u001b[0mroad\u001b[0m \u001b[0mlinking\u001b[0m\u001b[0;34m\u001b[0m\u001b[0m\n\u001b[1;32m     13\u001b[0m     these two nodes.\"\"\"\n\u001b[0;32m---> 14\u001b[0;31m     \u001b[0;32mreturn\u001b[0m \u001b[0mnp\u001b[0m\u001b[0;34m.\u001b[0m\u001b[0marray\u001b[0m\u001b[0;34m(\u001b[0m\u001b[0mjson\u001b[0m\u001b[0;34m.\u001b[0m\u001b[0mloads\u001b[0m\u001b[0;34m(\u001b[0m\u001b[0mg\u001b[0m\u001b[0;34m[\u001b[0m\u001b[0mn0\u001b[0m\u001b[0;34m]\u001b[0m\u001b[0;34m[\u001b[0m\u001b[0mn1\u001b[0m\u001b[0;34m]\u001b[0m\u001b[0;34m[\u001b[0m\u001b[0;34m'Json'\u001b[0m\u001b[0;34m]\u001b[0m\u001b[0;34m)\u001b[0m\u001b[0;34m[\u001b[0m\u001b[0;34m'coordinates'\u001b[0m\u001b[0;34m]\u001b[0m\u001b[0;34m)\u001b[0m\u001b[0;34m\u001b[0m\u001b[0m\n\u001b[0m\u001b[1;32m     15\u001b[0m \u001b[0;34m\u001b[0m\u001b[0m\n\u001b[1;32m     16\u001b[0m \u001b[0;31m#returns in KILOMETERS\u001b[0m\u001b[0;34m\u001b[0m\u001b[0;34m\u001b[0m\u001b[0m\n",
      "\u001b[0;31mKeyError\u001b[0m: (-122.4159537, 37.7604315)"
     ]
    }
   ],
   "source": [
    "split_edge(this_point)"
   ]
  },
  {
   "cell_type": "code",
   "execution_count": 47,
   "metadata": {
    "collapsed": false
   },
   "outputs": [
    {
     "ename": "KeyError",
     "evalue": "(-122.4159537, 37.7604315)",
     "output_type": "error",
     "traceback": [
      "\u001b[0;31m---------------------------------------------------------------------------\u001b[0m",
      "\u001b[0;31mKeyError\u001b[0m                                  Traceback (most recent call last)",
      "\u001b[0;32m<ipython-input-47-c0c8f156937e>\u001b[0m in \u001b[0;36m<module>\u001b[0;34m()\u001b[0m\n\u001b[0;32m----> 1\u001b[0;31m \u001b[0mfind_closest_edge\u001b[0m\u001b[0;34m(\u001b[0m\u001b[0mthis_point\u001b[0m\u001b[0;34m)\u001b[0m\u001b[0;34m\u001b[0m\u001b[0m\n\u001b[0m",
      "\u001b[0;32m<ipython-input-6-c39cbaa5519e>\u001b[0m in \u001b[0;36mfind_closest_edge\u001b[0;34m(my_point, method, return_distance)\u001b[0m\n\u001b[1;32m     13\u001b[0m \u001b[0;34m\u001b[0m\u001b[0m\n\u001b[1;32m     14\u001b[0m         \u001b[0mmy_distance_perp\u001b[0m \u001b[0;34m=\u001b[0m \u001b[0mdistance_from_line\u001b[0m\u001b[0;34m(\u001b[0m\u001b[0mn0\u001b[0m\u001b[0;34m[\u001b[0m\u001b[0;34m:\u001b[0m\u001b[0;34m:\u001b[0m\u001b[0;34m-\u001b[0m\u001b[0;36m1\u001b[0m\u001b[0;34m]\u001b[0m\u001b[0;34m,\u001b[0m \u001b[0mn1\u001b[0m\u001b[0;34m[\u001b[0m\u001b[0;34m:\u001b[0m\u001b[0;34m:\u001b[0m\u001b[0;34m-\u001b[0m\u001b[0;36m1\u001b[0m\u001b[0;34m]\u001b[0m\u001b[0;34m,\u001b[0m \u001b[0mmy_point\u001b[0m\u001b[0;34m)\u001b[0m\u001b[0;34m\u001b[0m\u001b[0m\n\u001b[0;32m---> 15\u001b[0;31m         \u001b[0mmy_distance_coord\u001b[0m \u001b[0;34m=\u001b[0m \u001b[0mdistance_from_edge_coord\u001b[0m\u001b[0;34m(\u001b[0m\u001b[0mn0\u001b[0m\u001b[0;34m,\u001b[0m\u001b[0mn1\u001b[0m\u001b[0;34m,\u001b[0m\u001b[0mmy_point\u001b[0m\u001b[0;34m)\u001b[0m\u001b[0;34m\u001b[0m\u001b[0m\n\u001b[0m\u001b[1;32m     16\u001b[0m \u001b[0;34m\u001b[0m\u001b[0m\n\u001b[1;32m     17\u001b[0m         \u001b[0;31m#for debugging\u001b[0m\u001b[0;34m\u001b[0m\u001b[0;34m\u001b[0m\u001b[0m\n",
      "\u001b[0;32m<ipython-input-26-197cb2a5cf73>\u001b[0m in \u001b[0;36mdistance_from_edge_coord\u001b[0;34m(a, b, my_point)\u001b[0m\n\u001b[1;32m     10\u001b[0m \u001b[0;34m\u001b[0m\u001b[0m\n\u001b[1;32m     11\u001b[0m \u001b[0;32mdef\u001b[0m \u001b[0mdistance_from_edge_coord\u001b[0m\u001b[0;34m(\u001b[0m\u001b[0ma\u001b[0m\u001b[0;34m,\u001b[0m\u001b[0mb\u001b[0m\u001b[0;34m,\u001b[0m\u001b[0mmy_point\u001b[0m\u001b[0;34m)\u001b[0m\u001b[0;34m:\u001b[0m\u001b[0;34m\u001b[0m\u001b[0m\n\u001b[0;32m---> 12\u001b[0;31m     \u001b[0mpath\u001b[0m \u001b[0;34m=\u001b[0m \u001b[0mget_path\u001b[0m\u001b[0;34m(\u001b[0m\u001b[0ma\u001b[0m\u001b[0;34m,\u001b[0m\u001b[0mb\u001b[0m\u001b[0;34m)\u001b[0m\u001b[0;34m\u001b[0m\u001b[0m\n\u001b[0m\u001b[1;32m     13\u001b[0m     \u001b[0mmy_distances\u001b[0m \u001b[0;34m=\u001b[0m \u001b[0mnp\u001b[0m\u001b[0;34m.\u001b[0m\u001b[0msum\u001b[0m\u001b[0;34m(\u001b[0m\u001b[0;34m(\u001b[0m\u001b[0mpath\u001b[0m\u001b[0;34m[\u001b[0m\u001b[0;34m:\u001b[0m\u001b[0;34m,\u001b[0m\u001b[0;34m:\u001b[0m\u001b[0;34m:\u001b[0m\u001b[0;34m-\u001b[0m\u001b[0;36m1\u001b[0m\u001b[0;34m]\u001b[0m \u001b[0;34m-\u001b[0m \u001b[0mmy_point\u001b[0m\u001b[0;34m)\u001b[0m\u001b[0;34m**\u001b[0m\u001b[0;36m2\u001b[0m\u001b[0;34m,\u001b[0m \u001b[0maxis\u001b[0m\u001b[0;34m=\u001b[0m\u001b[0;36m1\u001b[0m\u001b[0;34m)\u001b[0m\u001b[0;34m\u001b[0m\u001b[0m\n\u001b[1;32m     14\u001b[0m     \u001b[0;32mreturn\u001b[0m \u001b[0mmin\u001b[0m\u001b[0;34m(\u001b[0m\u001b[0mmy_distances\u001b[0m\u001b[0;34m**\u001b[0m\u001b[0;36m0.5\u001b[0m\u001b[0;34m)\u001b[0m\u001b[0;34m\u001b[0m\u001b[0m\n",
      "\u001b[0;32m<ipython-input-39-09aaa92f3dca>\u001b[0m in \u001b[0;36mget_path\u001b[0;34m(n0, n1)\u001b[0m\n\u001b[1;32m     12\u001b[0m     \u001b[0;32mreturn\u001b[0m \u001b[0man\u001b[0m \u001b[0marray\u001b[0m \u001b[0mof\u001b[0m \u001b[0mpoint\u001b[0m \u001b[0mcoordinates\u001b[0m \u001b[0malong\u001b[0m \u001b[0mthe\u001b[0m \u001b[0mroad\u001b[0m \u001b[0mlinking\u001b[0m\u001b[0;34m\u001b[0m\u001b[0m\n\u001b[1;32m     13\u001b[0m     these two nodes.\"\"\"\n\u001b[0;32m---> 14\u001b[0;31m     \u001b[0;32mreturn\u001b[0m \u001b[0mnp\u001b[0m\u001b[0;34m.\u001b[0m\u001b[0marray\u001b[0m\u001b[0;34m(\u001b[0m\u001b[0mjson\u001b[0m\u001b[0;34m.\u001b[0m\u001b[0mloads\u001b[0m\u001b[0;34m(\u001b[0m\u001b[0mg\u001b[0m\u001b[0;34m[\u001b[0m\u001b[0mn0\u001b[0m\u001b[0;34m]\u001b[0m\u001b[0;34m[\u001b[0m\u001b[0mn1\u001b[0m\u001b[0;34m]\u001b[0m\u001b[0;34m[\u001b[0m\u001b[0;34m'Json'\u001b[0m\u001b[0;34m]\u001b[0m\u001b[0;34m)\u001b[0m\u001b[0;34m[\u001b[0m\u001b[0;34m'coordinates'\u001b[0m\u001b[0;34m]\u001b[0m\u001b[0;34m)\u001b[0m\u001b[0;34m\u001b[0m\u001b[0m\n\u001b[0m\u001b[1;32m     15\u001b[0m \u001b[0;34m\u001b[0m\u001b[0m\n\u001b[1;32m     16\u001b[0m \u001b[0;31m#returns in KILOMETERS\u001b[0m\u001b[0;34m\u001b[0m\u001b[0;34m\u001b[0m\u001b[0m\n",
      "\u001b[0;31mKeyError\u001b[0m: (-122.4159537, 37.7604315)"
     ]
    }
   ],
   "source": [
    "find_closest_edge(this_point)"
   ]
  },
  {
   "cell_type": "code",
   "execution_count": 122,
   "metadata": {
    "collapsed": false
   },
   "outputs": [
    {
     "data": {
      "text/plain": [
       "(37.757806, -122.39608500000001)"
      ]
     },
     "execution_count": 122,
     "metadata": {},
     "output_type": "execute_result"
    }
   ],
   "source": [
    "distance_from_edge_coord(n0,n1,my_point)"
   ]
  },
  {
   "cell_type": "code",
   "execution_count": 127,
   "metadata": {
    "collapsed": false
   },
   "outputs": [
    {
     "data": {
      "text/plain": [
       "0.0003367862823853227"
      ]
     },
     "execution_count": 127,
     "metadata": {},
     "output_type": "execute_result"
    }
   ],
   "source": [
    "n0 = correct_edge[0]\n",
    "n1 = correct_edge[1]\n",
    "\n",
    "\n",
    "distance_from_line(n0[::-1], n1[::-1], this_point_c)"
   ]
  },
  {
   "cell_type": "code",
   "execution_count": 124,
   "metadata": {
    "collapsed": false
   },
   "outputs": [
    {
     "data": {
      "text/plain": [
       "0.0003367862823853227"
      ]
     },
     "execution_count": 124,
     "metadata": {},
     "output_type": "execute_result"
    }
   ],
   "source": [
    "n0 = wrong_edge[0]\n",
    "n1 = wrong_edge[1]\n",
    "\n",
    "\n",
    "distance_from_line(n0[::-1], n1[::-1], this_point_c)"
   ]
  },
  {
   "cell_type": "code",
   "execution_count": 141,
   "metadata": {
    "collapsed": false
   },
   "outputs": [
    {
     "name": "stdout",
     "output_type": "stream",
     "text": [
      "diagnoal line\n",
      "on line\n",
      "4.1255084769045784e-05\n",
      "0.000336786282385\n"
     ]
    }
   ],
   "source": [
    "#def distance_from_line(p,q,x):\n",
    "\n",
    "p=n0[::-1]\n",
    "q=n1[::-1]\n",
    "x=this_point_c\n",
    "\n",
    "#==Part 1===\n",
    "#p & q make a line; how far is x from this infinite line?\n",
    "\n",
    "#vertical traverse\n",
    "a = p[1] - q[1]\n",
    "\n",
    "#horizontal traverse\n",
    "b = q[0] - p[0]\n",
    "\n",
    "#ax+by+c = 0\n",
    "c = -a * p[0] - b * p[1]\n",
    "\n",
    "\n",
    "\n",
    "#==Part 2== does this closest-line-point actually lie between nodes?\n",
    "#Ax + By + C = 0 ==> y = (-Ax - C)/B\n",
    "\n",
    "#first, calculate what the closest point is, holding x constant\n",
    "#second, calculate the distance between that closest point and the actual point\n",
    "#finally, check whether the closest point actually lies on the line between the edge's endpoints\n",
    "#if not, use the closest endpoint\n",
    "\n",
    "if b == 0:\n",
    "# vertical line: ==> x = (-C - By) / A ==> x = -C / A\n",
    "#thus, ignore y and only take the distance between x and the latitude of our point\n",
    "    print('vertical line')\n",
    "    dist =  abs(a*x[0] + c) / abs(a)\n",
    "    closest_y = x[1]\n",
    "\n",
    "# horizontal line: ==> y = (-Ax - C) / B ==> y = -C / B\n",
    "#thus, ignore x and only take the distance between y and longitude of our point\n",
    "elif a == 0:\n",
    "    print('horizontal line')\n",
    "    dist = abs(b* x[1] + c) / abs(b)\n",
    "    closest_y = -c / b\n",
    "\n",
    "\n",
    "#not a vertical or horizontal line? proceed with full formula\n",
    "elif a * b != 0:\n",
    "#distance = |Ax0 + By0 + C| / sqrt(a^2 + b^s)\n",
    "    print('diagnoal line')\n",
    "    dist = abs(a*x[0] + b*x[1] + c) / (a**2 + b**2)**0.5\n",
    "    closest_y = (-1 * a * x[0] - c) / b\n",
    "\n",
    "else:\n",
    "    print('error!')\n",
    "#    return\n",
    "\n",
    "#lat&lon must be constrained by nodes' lat/lons\n",
    "p_x = distance_points(p, [x[0], closest_y])\n",
    "q_x = distance_points(q, [x[0], closest_y])\n",
    "p_q = distance_points(p,q)\n",
    "\n",
    "\n",
    "error = 1e-10\n",
    "if(abs(p_x + q_x - p_q) < error):\n",
    "    print('on line')\n",
    "    print(dist)\n",
    "\n",
    "#print('closest point not on edge')\n",
    "print(min(distance_points(p,x), distance_points(q,x)))"
   ]
  },
  {
   "cell_type": "code",
   "execution_count": 136,
   "metadata": {
    "collapsed": false
   },
   "outputs": [
    {
     "data": {
      "text/plain": [
       "False"
      ]
     },
     "execution_count": 136,
     "metadata": {},
     "output_type": "execute_result"
    }
   ],
   "source": [
    "p_x + q_x == p_q"
   ]
  },
  {
   "cell_type": "code",
   "execution_count": 137,
   "metadata": {
    "collapsed": false
   },
   "outputs": [
    {
     "name": "stdout",
     "output_type": "stream",
     "text": [
      "0.000821522975938\n",
      "0.000821522975938\n"
     ]
    }
   ],
   "source": [
    "print(p_x + q_x)\n",
    "print(p_q)"
   ]
  },
  {
   "cell_type": "code",
   "execution_count": null,
   "metadata": {
    "collapsed": true
   },
   "outputs": [],
   "source": []
  }
 ],
 "metadata": {
  "anaconda-cloud": {},
  "kernelspec": {
   "display_name": "GDAL",
   "language": "python",
   "name": "gdal"
  },
  "language_info": {
   "codemirror_mode": {
    "name": "ipython",
    "version": 3
   },
   "file_extension": ".py",
   "mimetype": "text/x-python",
   "name": "python",
   "nbconvert_exporter": "python",
   "pygments_lexer": "ipython3",
   "version": "3.6.0"
  }
 },
 "nbformat": 4,
 "nbformat_minor": 2
}
